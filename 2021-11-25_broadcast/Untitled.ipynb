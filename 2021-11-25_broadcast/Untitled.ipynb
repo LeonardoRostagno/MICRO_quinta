{
 "cells": [
  {
   "cell_type": "code",
   "execution_count": 11,
   "id": "54e8cb8a",
   "metadata": {},
   "outputs": [],
   "source": [
    "import numpy as np\n",
    "import uuid"
   ]
  },
  {
   "cell_type": "markdown",
   "id": "e1a8948c",
   "metadata": {},
   "source": [
    "BROADCAST"
   ]
  },
  {
   "cell_type": "code",
   "execution_count": 2,
   "id": "d9da8131",
   "metadata": {},
   "outputs": [
    {
     "data": {
      "text/plain": [
       "array([ 0,  1,  2,  3,  4,  5,  6,  7,  8,  9, 10, 11])"
      ]
     },
     "execution_count": 2,
     "metadata": {},
     "output_type": "execute_result"
    }
   ],
   "source": [
    "a = np.arange(0, 12) # array da 0 a 11\n",
    "a"
   ]
  },
  {
   "cell_type": "code",
   "execution_count": 3,
   "id": "eac9eb94",
   "metadata": {},
   "outputs": [
    {
     "data": {
      "text/plain": [
       "array([ 5,  6,  7,  8,  9, 10, 11, 12, 13, 14, 15, 16])"
      ]
     },
     "execution_count": 3,
     "metadata": {},
     "output_type": "execute_result"
    }
   ],
   "source": [
    "a + 5 # somma 5 a tutti i valori dell'array"
   ]
  },
  {
   "cell_type": "code",
   "execution_count": 5,
   "id": "df553dfa",
   "metadata": {},
   "outputs": [
    {
     "data": {
      "text/plain": [
       "array([[ 0,  1,  2],\n",
       "       [ 3,  4,  5],\n",
       "       [ 6,  7,  8],\n",
       "       [ 9, 10, 11]])"
      ]
     },
     "execution_count": 5,
     "metadata": {},
     "output_type": "execute_result"
    }
   ],
   "source": [
    "b = a.reshape((4, 3)) # riformazione del array\n",
    "b"
   ]
  },
  {
   "cell_type": "code",
   "execution_count": 7,
   "id": "00b059c3",
   "metadata": {},
   "outputs": [
    {
     "data": {
      "text/plain": [
       "array([100., 100., 100.])"
      ]
     },
     "execution_count": 7,
     "metadata": {},
     "output_type": "execute_result"
    }
   ],
   "source": [
    "c = np.ones(3)*100\n",
    "c"
   ]
  },
  {
   "cell_type": "code",
   "execution_count": 9,
   "id": "63b20a65",
   "metadata": {},
   "outputs": [
    {
     "data": {
      "text/plain": [
       "array([[100., 101., 102.],\n",
       "       [103., 104., 105.],\n",
       "       [106., 107., 108.],\n",
       "       [109., 110., 111.]])"
      ]
     },
     "execution_count": 9,
     "metadata": {},
     "output_type": "execute_result"
    }
   ],
   "source": [
    "b + c # somma di riga per riga"
   ]
  },
  {
   "cell_type": "markdown",
   "id": "b741c6ad",
   "metadata": {},
   "source": [
    "Comandi magici"
   ]
  },
  {
   "cell_type": "code",
   "execution_count": 10,
   "id": "353a9050",
   "metadata": {},
   "outputs": [],
   "source": [
    "# sono comandi che cominciano o con % o %%\n",
    "# %%timeit esegue la cella molte volte, e restituisce la media tra tutti in notazione standard"
   ]
  },
  {
   "cell_type": "code",
   "execution_count": 13,
   "id": "18154939",
   "metadata": {},
   "outputs": [],
   "source": [
    "n_passeggeri = 2000000\n",
    "temperature = np.random.normal(36.5, 0.25, n_passeggeri)\n",
    "identificativi = np.array([str(uuid.uuid4()) for _ in range(n_passeggeri)])"
   ]
  },
  {
   "cell_type": "code",
   "execution_count": 14,
   "id": "b4cf0f30",
   "metadata": {},
   "outputs": [
    {
     "data": {
      "text/plain": [
       "array(['e23257bf-a63a-48d2-b471-b7ef5e0f135d',\n",
       "       '4d6ff7ed-482d-4d24-8511-98f58bc03279',\n",
       "       'babf2670-6b41-4d5d-bd66-b203ad0f20c0', ...,\n",
       "       '852607aa-e190-4f20-86e0-7f51b3163f31',\n",
       "       '4ded3fdd-2e60-43a8-8fbe-16b900d6f388',\n",
       "       '89d42aaf-1353-44fe-a7e7-0f73394927d0'], dtype='<U36')"
      ]
     },
     "execution_count": 14,
     "metadata": {},
     "output_type": "execute_result"
    }
   ],
   "source": [
    "identificativi"
   ]
  },
  {
   "cell_type": "code",
   "execution_count": 17,
   "id": "be5a3126",
   "metadata": {},
   "outputs": [
    {
     "name": "stdout",
     "output_type": "stream",
     "text": [
      "2.12 ms ± 32.2 µs per loop (mean ± std. dev. of 7 runs, 100 loops each)\n"
     ]
    }
   ],
   "source": [
    "%%timeit\n",
    "contatore = np.count_nonzero(temperature > 37.5)"
   ]
  },
  {
   "cell_type": "code",
   "execution_count": null,
   "id": "5ce484d9",
   "metadata": {},
   "outputs": [],
   "source": []
  }
 ],
 "metadata": {
  "kernelspec": {
   "display_name": "Python 3",
   "language": "python",
   "name": "python3"
  },
  "language_info": {
   "codemirror_mode": {
    "name": "ipython",
    "version": 3
   },
   "file_extension": ".py",
   "mimetype": "text/x-python",
   "name": "python",
   "nbconvert_exporter": "python",
   "pygments_lexer": "ipython3",
   "version": "3.8.8"
  }
 },
 "nbformat": 4,
 "nbformat_minor": 5
}
