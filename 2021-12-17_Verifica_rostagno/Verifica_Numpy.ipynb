{
 "cells": [
  {
   "cell_type": "code",
   "execution_count": 49,
   "id": "a4ae9fe9",
   "metadata": {},
   "outputs": [],
   "source": [
    "import numpy as np\n",
    "import matplotlib.pyplot as plt"
   ]
  },
  {
   "cell_type": "markdown",
   "id": "de801a19",
   "metadata": {},
   "source": [
    "### Esercizio 1\n",
    "Nel file `covid-19_gen1.txt` è presente l'RNA di un virus SARS-COV-2. L'RNA è una sequenza in cui si alternano 4 simboli (detti nucleotidi): A, T, C, G.\n",
    "L'RNA del  virus SARS-COV-2 contiene 29903 nucleotidi. Leggi il file e crea un array di Numpy contenente i 29903 elementi, uno per ogni nucleotide secondo l'ordine contenuto nel file.\n",
    "\n",
    "Utilizza Numpy per:\n",
    "1. calcolare la frequenza assoluta di ogni nucleotide;\n",
    "2. calcolare la frequenza assoluta della sequenza A,T,G;\n",
    "4. sapendo che la sequenza A,T,G,T,T,T,G,T,T,T,T,T sta all'inzio del segmento di RNA che codifica la proteina spike, individuare se la proteina spike è presente nell'RNA: in caso affermativo ottenere la posizione iniziale della proteina spike all'interno dell'array. *SUGGERIMENTO*: costruisci la matrice contenente tutte le possibili sequenze di 12 nucleotidi, nella quale ogni riga rappresenta una sequenza consecutiva di 12 nucleotidi."
   ]
  },
  {
   "cell_type": "code",
   "execution_count": 16,
   "id": "c8ec2619",
   "metadata": {},
   "outputs": [],
   "source": [
    "def reader_covid(name):\n",
    "    lista_covid = []\n",
    "\n",
    "    file_covid = open(name, \"r\")\n",
    "    testo_covid = file_covid.read()\n",
    "    file_covid.close()\n",
    "\n",
    "    testo_covid.replace(\"\\n\", \"\")\n",
    "\n",
    "    for c in testo_covid:    \n",
    "        lista_covid.append(c)\n",
    "\n",
    "    return lista_covid"
   ]
  },
  {
   "cell_type": "code",
   "execution_count": 17,
   "id": "ce06ce41",
   "metadata": {},
   "outputs": [],
   "source": [
    "arr_covid = np.array(reader_covid(\"./covid-19_gen1.txt\"))"
   ]
  },
  {
   "cell_type": "code",
   "execution_count": 24,
   "id": "bdf21b24",
   "metadata": {
    "scrolled": true
   },
   "outputs": [
    {
     "name": "stdout",
     "output_type": "stream",
     "text": [
      "8954\n",
      "9594\n",
      "5492\n",
      "5863\n"
     ]
    }
   ],
   "source": [
    "# PUNTO 1 \n",
    "print(np.count_nonzero(arr_covid == \"A\")) # A\n",
    "print(np.count_nonzero(arr_covid == \"T\")) # T\n",
    "print(np.count_nonzero(arr_covid == \"C\")) # C\n",
    "print(np.count_nonzero(arr_covid == \"G\")) # G"
   ]
  },
  {
   "cell_type": "code",
   "execution_count": 31,
   "id": "45f78739",
   "metadata": {},
   "outputs": [
    {
     "data": {
      "text/plain": [
       "701"
      ]
     },
     "execution_count": 31,
     "metadata": {},
     "output_type": "execute_result"
    }
   ],
   "source": [
    "# PUNTO 2\n",
    "punto_2 = np.logical_and(np.logical_and(arr_covid == \"A\", np.roll(arr_covid, -1) == \"T\"), np.roll(arr_covid, -2) == \"G\")\n",
    "\n",
    "np.count_nonzero(punto_2 == True)"
   ]
  },
  {
   "cell_type": "code",
   "execution_count": 36,
   "id": "2336eec3",
   "metadata": {},
   "outputs": [],
   "source": [
    "# PUNTO 3 - da finire\n",
    "spike = np.array([\"A\",\"T\",\"G\",\"T\",\"T\",\"T\",\"G\",\"T\",\"T\",\"T\",\"T\",\"T\"])"
   ]
  },
  {
   "cell_type": "markdown",
   "id": "de8c9dd9",
   "metadata": {},
   "source": [
    "### Esercizio 2\n",
    "Il file `prezzi.cvs` contiene le serie storiche mensili dei prezzi di alcuni generi alimentari dal Settembre 2011 a Dicembre 2016. Caricare all'interno di opportuni array di Numpy soltanto le serie dei prezzi utili a rispondere alle domande seguenti.\n",
    "\n",
    "1. Per il periodo Settembre 2011 - Dicembre 2016 calcola il prezzo di una spesa composta da:\n",
    "    - 5kg di Farina di frumento\n",
    "    - 1 l di Latte fresco\n",
    "    - 1 kg di Caffè tostato\n",
    "    - 0.5 kg di Parmigiano Reggiano\n",
    "2. Per la spesa del punto 1 calcola se ci sono dei minimi locali nel prezzo e se si quando (anno, mese).\n",
    "\n",
    "3. Traccia un grafico che mostri l'andamento del prezzo del Caffè tostato (gr. 1000).\n",
    "\n",
    "4. Calcola un array con le variazioni di prezzo mensile per il Caffè tostato (gr. 1000).\n",
    "\n",
    "5. Calcola un array con le variazioni di prezzo mensile per il Burro (gr. 1000).\n",
    "\n",
    "6. Traccia un grafico a dispersione che mostri la variazione di prezzo mensile per il Caffè tostato (gr. 1000) rispetto a quella del Burro (gr. 1000)."
   ]
  },
  {
   "cell_type": "code",
   "execution_count": 42,
   "id": "b935bc02",
   "metadata": {},
   "outputs": [],
   "source": [
    "list_data_anno = []\n",
    "list_data_mese = []\n",
    "list_farina_frumento = [] \n",
    "list_latte_fresco = [] \n",
    "list_caffe_tostato = []\n",
    "list_parmigiano = [] \n",
    "list_burro = [] "
   ]
  },
  {
   "cell_type": "code",
   "execution_count": 38,
   "id": "0316c311",
   "metadata": {},
   "outputs": [],
   "source": [
    "file = open(\"./prezzi.csv\", \"r\")\n",
    "testo = file.readlines()[1:]\n",
    "file.close()"
   ]
  },
  {
   "cell_type": "code",
   "execution_count": 43,
   "id": "fbee4d5f",
   "metadata": {},
   "outputs": [],
   "source": [
    "for riga in testo:\n",
    "    lista_spesa = riga.replace(\"\\n\", \"\").split(\";\")\n",
    "    \n",
    "    list_data_anno.append(lista_spesa[0])\n",
    "    list_data_mese.append(lista_spesa[1])\n",
    "    list_farina_frumento.append(lista_spesa[10]) \n",
    "    list_latte_fresco.append(lista_spesa[12])\n",
    "    list_caffe_tostato.append(lista_spesa[6])\n",
    "    list_parmigiano.append(lista_spesa[18])\n",
    "    list_burro.append(lista_spesa[6])"
   ]
  },
  {
   "cell_type": "code",
   "execution_count": 48,
   "id": "82628b3c",
   "metadata": {},
   "outputs": [],
   "source": [
    "arr_dtanno = np.array(list_data_anno, dtype = int)\n",
    "arr_dtmese = np.array(list_data_mese)\n",
    "arr_farina = np.array(list_farina_frumento, dtype = float)\n",
    "arr_latte = np.array(list_latte_fresco, dtype = float)\n",
    "arr_caffe = np.array(list_caffe_tostato, dtype = float)\n",
    "arr_parmigiano = np.array(list_parmigiano, dtype = float)\n",
    "arr_burro = np.array(list_burro, dtype = float)"
   ]
  },
  {
   "cell_type": "code",
   "execution_count": 46,
   "id": "515fbd63",
   "metadata": {
    "collapsed": true
   },
   "outputs": [
    {
     "data": {
      "text/plain": [
       "array([168.03 , 165.73 , 163.585, 164.14 , 158.89 , 159.49 , 154.28 ,\n",
       "       155.485, 155.55 , 156.15 , 156.045, 156.045, 156.095, 156.15 ,\n",
       "       164.14 , 158.89 , 159.49 , 154.28 , 155.485, 155.55 , 156.15 ,\n",
       "       156.045, 156.045, 156.095, 156.15 , 154.835, 154.845, 155.04 ,\n",
       "       156.14 , 157.845, 157.895, 158.94 , 158.44 , 158.27 , 158.29 ,\n",
       "       157.485, 156.78 , 156.345, 155.855, 155.79 , 155.505, 154.85 ,\n",
       "       154.845, 154.88 , 155.34 , 153.615, 151.115, 151.02 , 152.215,\n",
       "       152.465, 152.615, 152.005, 147.705, 150.005, 151.515, 151.605,\n",
       "       152.245, 151.845, 151.71 ])"
      ]
     },
     "execution_count": 46,
     "metadata": {},
     "output_type": "execute_result"
    }
   ],
   "source": [
    "# PUNTO 1\n",
    "spesa = (arr_farina * 5) + (arr_latte * 10) + arr_caffe + (arr_parmigiano / 2)\n",
    "arr_spesa = np.array(spesa)\n",
    "arr_spesa"
   ]
  },
  {
   "cell_type": "code",
   "execution_count": 70,
   "id": "d0c6ef7e",
   "metadata": {
    "collapsed": true
   },
   "outputs": [
    {
     "name": "stdout",
     "output_type": "stream",
     "text": [
      "[2012 2012 2012 2012 2013 2013 2013 2013 2014 2014 2014 2014 2015 2016\n",
      " 2016 2016 2016 2016]\n",
      "['Aprile' 'Maggio' 'Settembre' 'Ottobre' 'Aprile' 'Maggio' 'Settembre'\n",
      " 'Dicembre' 'Gennaio' 'Febbraio' 'Marzo' 'Aprile' 'Settembre' 'Febbraio'\n",
      " 'Marzo' 'Luglio' 'Agosto' 'Settembre']\n"
     ]
    }
   ],
   "source": [
    "# PUNTO 2\n",
    "arr_prec = np.roll(arr_spesa, -1) [1: -1]\n",
    "arr_succ = np.roll(arr_spesa, 1) [1: -1]\n",
    "spesa = arr_spesa [1: -1]\n",
    "arr_anno = arr_dtanno [1: -1]\n",
    "arr_mese = arr_dtmese [1: -1]\n",
    "\n",
    "print(arr_anno[np.logical_and(arr_prec > spesa, arr_succ < spesa)])\n",
    "print(arr_mese[np.logical_and(arr_prec > spesa, arr_succ < spesa)])"
   ]
  },
  {
   "cell_type": "code",
   "execution_count": 91,
   "id": "50670ec3",
   "metadata": {},
   "outputs": [
    {
     "data": {
      "image/png": "[encoded data removed]",
      "text/plain": [
       "<Figure size 720x432 with 1 Axes>"
      ]
     },
     "metadata": {
      "needs_background": "light"
     },
     "output_type": "display_data"
    }
   ],
   "source": [
    "# PUNTO 3\n",
    "fig, ax = plt.subplots(figsize = (10, 6))\n",
    "ax.plot(arr_caffe, \"y\")\n",
    "ax.set_title(\"Andamento caffè\")\n",
    "plt.show()"
   ]
  },
  {
   "cell_type": "code",
   "execution_count": 56,
   "id": "80fcc108",
   "metadata": {
    "collapsed": true
   },
   "outputs": [
    {
     "data": {
      "text/plain": [
       "array([ 1.14,  0.  ,  0.  , -0.06, -0.05, -0.05, -0.04, -0.04, -0.01,\n",
       "        0.  ,  0.  ,  0.  ,  0.  , -0.05,  0.24, -0.05, -0.05, -0.04,\n",
       "       -0.04, -0.01,  0.  ,  0.  ,  0.  ,  0.  , -0.05, -0.08, -0.01,\n",
       "        0.  ,  0.  ,  0.  , -0.05, -0.05,  0.  , -0.03, -0.02, -0.02,\n",
       "       -0.1 , -0.01, -0.05,  0.01, -0.01, -0.19,  0.  , -0.03, -0.16,\n",
       "        0.  ,  0.  ,  0.  ,  0.  ,  0.06, -0.05,  0.11,  0.  ,  0.  ,\n",
       "        0.02, -0.07, -0.04, -0.2 ,  0.13])"
      ]
     },
     "execution_count": 56,
     "metadata": {},
     "output_type": "execute_result"
    }
   ],
   "source": [
    "# PUNTO 4\n",
    "var_mens_caffe = np.roll(arr_caffe, 1) - arr_caffe\n",
    "arr_mens_caffe = np.array(var_mens_caffe)\n",
    "arr_mens_caffe"
   ]
  },
  {
   "cell_type": "code",
   "execution_count": 57,
   "id": "471382e3",
   "metadata": {
    "collapsed": true
   },
   "outputs": [
    {
     "data": {
      "text/plain": [
       "array([-0.08,  0.06, -0.36, -0.23,  0.  , -0.05, -0.08, -0.03, -0.1 ,\n",
       "       -0.09,  0.09, -0.16,  0.01,  0.  ,  0.41,  0.  , -0.05, -0.08,\n",
       "       -0.03, -0.1 , -0.09,  0.09, -0.16,  0.01,  0.  ,  0.04,  0.11,\n",
       "       -0.1 , -0.02,  0.05,  0.02,  0.57,  0.  ,  0.2 ,  0.01, -0.22,\n",
       "       -0.43,  0.03, -0.06, -0.19, -0.01,  0.22,  0.  , -0.02,  0.02,\n",
       "       -0.19, -0.29,  0.23,  0.2 , -0.07,  0.64,  0.  , -0.02, -0.09,\n",
       "        0.19, -0.16,  0.  ,  0.36,  0.  ])"
      ]
     },
     "execution_count": 57,
     "metadata": {},
     "output_type": "execute_result"
    }
   ],
   "source": [
    "# PUNTO 5\n",
    "var_mens_burro = np.roll(arr_burro, 1) - arr_burro\n",
    "arr_mens_burro = np.array(var_mens_burro)\n",
    "arr_mens_burro"
   ]
  },
  {
   "cell_type": "code",
   "execution_count": 58,
   "id": "00d7d9ea",
   "metadata": {
    "collapsed": true
   },
   "outputs": [
    {
     "data": {
      "image/png": "[encoded data removed]",
      "text/plain": [
       "<Figure size 1440x720 with 1 Axes>"
      ]
     },
     "metadata": {
      "needs_background": "light"
     },
     "output_type": "display_data"
    }
   ],
   "source": [
    "# PUNTO 6\n",
    "fig, ax = plt.subplots(figsize = (20, 10))\n",
    "ax.scatter(arr_mens_caffe, arr_mens_burro, s = 5.0)\n",
    "ax.set_title(\"Correlazione Caffè-Burro\")\n",
    "ax.set_xlabel(\"Caffè\")\n",
    "ax.set_ylabel(\"Burro\")\n",
    "\n",
    "plt.show()"
   ]
  },
  {
   "cell_type": "markdown",
   "id": "77a2f62b",
   "metadata": {},
   "source": [
    "### Esercizio 3 (BONUS)\n",
    "L'array `array_punti` è un array di Numpy come quello sottostante, contenente quattro coppie di coordinate spaziali intere scelte a caso, che rappresentano quattro punti nel piano. Essi sono i quattro vertici di una figura geometrica piana, letti in verso anti-orario. Facendo uso di Numpy: [suggerimento: usare funzione unique()]\n",
    "1. crea una funzione che verifichi se la figura geometrica è un quadrilatero, un triangolo, un segmento oppure un punto;\n",
    "2. crea una funzione che calcoli il perimetro della figura."
   ]
  },
  {
   "cell_type": "code",
   "execution_count": 79,
   "id": "e98fa22a",
   "metadata": {
    "scrolled": true
   },
   "outputs": [
    {
     "data": {
      "text/plain": [
       "array([[0, 2],\n",
       "       [4, 2],\n",
       "       [1, 2],\n",
       "       [2, 3]])"
      ]
     },
     "execution_count": 79,
     "metadata": {},
     "output_type": "execute_result"
    }
   ],
   "source": [
    "array_punti= np.random.randint(0.,5,(4,2))\n",
    "array_punti"
   ]
  },
  {
   "cell_type": "code",
   "execution_count": 90,
   "id": "a6bc4668",
   "metadata": {},
   "outputs": [],
   "source": [
    "arr_x = []\n",
    "arr_y = []\n",
    "\n",
    "for r in array_punti:\n",
    "    arr_x.append(r[0])\n",
    "    arr_y.append(r[1])\n",
    "    \n",
    "arr_x = np.array(arr_x)\n",
    "arr_y = np.array(arr_y)"
   ]
  },
  {
   "cell_type": "markdown",
   "id": "d3801817",
   "metadata": {},
   "source": [
    "### Esercizio 4 (BONUS)\n",
    "Usa Numpy per calcolare una approssimazione dell'integrale definito della funzione f(x) = exp(-x^2) da 0 a 1. Suddividi l'intervallo [0,1] in n sotto-intervalli e per ogni sotto-intervallo approssima l'area sottesa dalla funzione con l'area del corrispondente rettangolo.\n",
    "[Suggerimento: usare np.linespace()]\n",
    "![rettangoli](rettangolo.png)\n",
    "Calcola il risultato per n=10, 100, 10000, 100000."
   ]
  },
  {
   "cell_type": "code",
   "execution_count": null,
   "id": "70c3bb9b",
   "metadata": {},
   "outputs": [],
   "source": []
  }
 ],
 "metadata": {
  "kernelspec": {
   "display_name": "Python 3",
   "language": "python",
   "name": "python3"
  },
  "language_info": {
   "codemirror_mode": {
    "name": "ipython",
    "version": 3
   },
   "file_extension": ".py",
   "mimetype": "text/x-python",
   "name": "python",
   "nbconvert_exporter": "python",
   "pygments_lexer": "ipython3",
   "version": "3.8.8"
  }
 },
 "nbformat": 4,
 "nbformat_minor": 5
}
