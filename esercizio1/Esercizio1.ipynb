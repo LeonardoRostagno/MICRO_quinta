{
 "cells": [
  {
   "attachments": {},
   "cell_type": "markdown",
   "id": "dda78593",
   "metadata": {},
   "source": [
    "# Shortcut\n",
    "\n",
    "![logo](https://upload.wikimedia.org/wikipedia/commons/3/38/Jupyter_logo.svg)\n",
    "\n",
    "## Le scorciatoie utili in command mode\n",
    "Per poterle usare entrare in _command mode_ con **`ESC`** (bordo blu).\n",
    "+ **`INVIO`** entra in _editing mode_\n",
    "+ **`a`** inserisce una nuova cella sopra (above) la corrente\n",
    "+ **`b`** inserisce una nuova cella sotto (below) la corrente\n",
    "+ **`CTRL+INVIO`** esegue la cella corrente e resta in essa\n",
    "+ **`SHIFT+INVIO`** esegue la cella corrente e si sposta sulla successiva (se non c'è la crea)\n",
    "+ **`ALT+INVIO`** esegue la corrente e ne crea una nuova sotto di essa\n",
    "+ **`m`** trasforma la cella corrente in tipo _Markdown_\n",
    "+ **`y`** trasforma la cella corrente in tipo _Code_\n",
    "+ **`d d`** elimina la cella corrente\n",
    "+ **`x`** **`c`** **`v`** taglia o copia la cella corrente e la incolla nella cella sotto (**`SHIFT + v`** la incolla sopra)\n",
    "+ **`z`** annulla l'ultima operazione\n",
    "+ **`FRECCIA SU`** o **`GIU`** per spostarsi fra le celle"
   ]
  },
  {
   "cell_type": "code",
   "execution_count": null,
   "id": "e26476c9",
   "metadata": {},
   "outputs": [],
   "source": []
  }
 ],
 "metadata": {
  "kernelspec": {
   "display_name": "Python 3",
   "language": "python",
   "name": "python3"
  },
  "language_info": {
   "codemirror_mode": {
    "name": "ipython",
    "version": 3
   },
   "file_extension": ".py",
   "mimetype": "text/x-python",
   "name": "python",
   "nbconvert_exporter": "python",
   "pygments_lexer": "ipython3",
   "version": "3.8.8"
  }
 },
 "nbformat": 4,
 "nbformat_minor": 5
}
