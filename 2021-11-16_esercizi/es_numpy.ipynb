{
 "cells": [
  {
   "cell_type": "markdown",
   "id": "2b30f9c5",
   "metadata": {},
   "source": [
    "FANCY ARRAY"
   ]
  },
  {
   "cell_type": "code",
   "execution_count": 30,
   "id": "6e5822e2",
   "metadata": {},
   "outputs": [],
   "source": [
    "import numpy as np"
   ]
  },
  {
   "cell_type": "code",
   "execution_count": 31,
   "id": "d80b84d2",
   "metadata": {
    "scrolled": true
   },
   "outputs": [
    {
     "data": {
      "text/plain": [
       "array([ 1,  7,  3, 10, 30, 45])"
      ]
     },
     "execution_count": 31,
     "metadata": {},
     "output_type": "execute_result"
    }
   ],
   "source": [
    "a = np.array([1, 7, 3, 10, 30, 45])\n",
    "a"
   ]
  },
  {
   "cell_type": "code",
   "execution_count": 32,
   "id": "639b43ce",
   "metadata": {},
   "outputs": [
    {
     "name": "stdout",
     "output_type": "stream",
     "text": [
      "[ 1  7  3 10 30 45]\n",
      "[ 7  3 10]\n",
      "True\n"
     ]
    }
   ],
   "source": [
    "b = a[1:4] # b è una view di a\n",
    "\n",
    "print(a)\n",
    "print(b)\n",
    "print(b.base is a) # b è un array che è basato su a"
   ]
  },
  {
   "cell_type": "code",
   "execution_count": 37,
   "id": "054521d8",
   "metadata": {},
   "outputs": [
    {
     "name": "stdout",
     "output_type": "stream",
     "text": [
      "[ 1  7  3 10 30 45]\n",
      "True\n"
     ]
    }
   ],
   "source": [
    "c = a[:]\n",
    "\n",
    "print(c)\n",
    "print(c.base is a)"
   ]
  },
  {
   "cell_type": "code",
   "execution_count": 36,
   "id": "90d6538a",
   "metadata": {},
   "outputs": [
    {
     "name": "stdout",
     "output_type": "stream",
     "text": [
      "[ 1  3 45]\n"
     ]
    }
   ],
   "source": [
    "b = a[[True, False, True, False, False, True]]\n",
    "print(b)"
   ]
  },
  {
   "cell_type": "code",
   "execution_count": 35,
   "id": "cb3accd3",
   "metadata": {},
   "outputs": [
    {
     "name": "stdout",
     "output_type": "stream",
     "text": [
      "[45 30  7]\n"
     ]
    }
   ],
   "source": [
    "b = a[[5, 4, 1]]\n",
    "print(b)"
   ]
  },
  {
   "cell_type": "code",
   "execution_count": 42,
   "id": "fe11bd46",
   "metadata": {},
   "outputs": [
    {
     "name": "stdout",
     "output_type": "stream",
     "text": [
      "[[1 2 3]\n",
      " [4 5 6]\n",
      " [7 8 9]]\n"
     ]
    }
   ],
   "source": [
    "mat = np.array([[1, 2, 3], [4, 5, 6], [7, 8, 9]])\n",
    "print(mat)"
   ]
  },
  {
   "cell_type": "code",
   "execution_count": 45,
   "id": "299ab642",
   "metadata": {},
   "outputs": [
    {
     "name": "stdout",
     "output_type": "stream",
     "text": [
      "[3 6 9]\n",
      "[4 5 6]\n"
     ]
    }
   ],
   "source": [
    "print(mat[:, 2]) # terza colonna\n",
    "print(mat[1, :]) # seconda riga"
   ]
  },
  {
   "cell_type": "code",
   "execution_count": 47,
   "id": "852092ac",
   "metadata": {},
   "outputs": [
    {
     "name": "stdout",
     "output_type": "stream",
     "text": [
      "[3 6 9]\n"
     ]
    }
   ],
   "source": [
    "terza_colonna = mat[:, 2]\n",
    "print(terza_colonna)"
   ]
  },
  {
   "cell_type": "code",
   "execution_count": 48,
   "id": "0183dfa3",
   "metadata": {},
   "outputs": [
    {
     "name": "stdout",
     "output_type": "stream",
     "text": [
      "[11 11 11]\n",
      "[[ 1  2 11]\n",
      " [ 4  5 11]\n",
      " [ 7  8 11]]\n"
     ]
    }
   ],
   "source": [
    "terza_colonna[...] = 11\n",
    "print(terza_colonna)\n",
    "print(mat)"
   ]
  },
  {
   "cell_type": "code",
   "execution_count": 55,
   "id": "d0e107bf",
   "metadata": {},
   "outputs": [
    {
     "name": "stdout",
     "output_type": "stream",
     "text": [
      "[[0 0 1 0 0 1 1 1 0 1]\n",
      " [0 1 1 1 1 0 1 0 1 1]\n",
      " [1 1 0 1 0 0 0 1 1 1]\n",
      " [1 1 0 0 1 0 1 1 0 1]\n",
      " [0 1 0 0 0 0 0 1 0 1]\n",
      " [1 1 1 1 0 0 0 1 1 1]\n",
      " [0 1 1 0 0 1 0 0 1 0]\n",
      " [1 0 0 0 0 1 0 1 0 1]\n",
      " [0 1 0 1 0 0 1 0 0 1]\n",
      " [1 0 1 1 0 1 0 1 0 1]]\n"
     ]
    }
   ],
   "source": [
    "mat_bit = np.random.randint(0, 2, size = (10, 10))\n",
    "print(mat_bit)"
   ]
  },
  {
   "cell_type": "code",
   "execution_count": 56,
   "id": "429f5465",
   "metadata": {},
   "outputs": [
    {
     "name": "stdout",
     "output_type": "stream",
     "text": [
      "[[0 0 0 0 0 0 0 0 0 0]\n",
      " [0 1 1 1 1 0 1 0 1 0]\n",
      " [0 1 0 1 0 0 0 1 1 0]\n",
      " [0 1 0 0 1 0 1 1 0 0]\n",
      " [0 1 0 0 0 0 0 1 0 0]\n",
      " [0 1 1 1 0 0 0 1 1 0]\n",
      " [0 1 1 0 0 1 0 0 1 0]\n",
      " [0 0 0 0 0 1 0 1 0 0]\n",
      " [0 1 0 1 0 0 1 0 0 0]\n",
      " [0 0 0 0 0 0 0 0 0 0]]\n"
     ]
    }
   ],
   "source": [
    "mat_bit[0, :] = 0\n",
    "mat_bit[9, :] = 0\n",
    "mat_bit[:, 0] = 0\n",
    "mat_bit[:, 9] = 0\n",
    "\n",
    "print(mat_bit)"
   ]
  },
  {
   "cell_type": "markdown",
   "id": "12ac5358",
   "metadata": {},
   "source": [
    "ESEMPIO"
   ]
  },
  {
   "cell_type": "code",
   "execution_count": 25,
   "id": "b2601420",
   "metadata": {},
   "outputs": [
    {
     "name": "stdout",
     "output_type": "stream",
     "text": [
      "[2 4 3 6 3 5 3 1 2 2] - [2 4 2 2 2 6 5 5 5 6]\n"
     ]
    }
   ],
   "source": [
    "dado_Alice = np.random.randint(1, 7, 10)\n",
    "dado_Bob = np.random.randint(1, 7, 10)\n",
    "\n",
    "print(f\"{dado_Alice} - {dado_Bob}\")"
   ]
  },
  {
   "cell_type": "code",
   "execution_count": 26,
   "id": "fecc6bfa",
   "metadata": {},
   "outputs": [
    {
     "name": "stdout",
     "output_type": "stream",
     "text": [
      "[3 6 3]\n"
     ]
    }
   ],
   "source": [
    "punteggi_vittoria_Alice = dado_Alice[dado_Alice > dado_Bob]\n",
    "print(punteggi_vittoria_Alice)"
   ]
  },
  {
   "cell_type": "code",
   "execution_count": 27,
   "id": "3d1af686",
   "metadata": {},
   "outputs": [
    {
     "data": {
      "text/plain": [
       "False"
      ]
     },
     "execution_count": 27,
     "metadata": {},
     "output_type": "execute_result"
    }
   ],
   "source": [
    "punteggi_vittoria_Alice.base is dado_Bob"
   ]
  }
 ],
 "metadata": {
  "kernelspec": {
   "display_name": "Python 3",
   "language": "python",
   "name": "python3"
  },
  "language_info": {
   "codemirror_mode": {
    "name": "ipython",
    "version": 3
   },
   "file_extension": ".py",
   "mimetype": "text/x-python",
   "name": "python",
   "nbconvert_exporter": "python",
   "pygments_lexer": "ipython3",
   "version": "3.8.8"
  }
 },
 "nbformat": 4,
 "nbformat_minor": 5
}
