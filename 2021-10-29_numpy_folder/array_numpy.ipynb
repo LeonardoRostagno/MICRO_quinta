{
 "cells": [
  {
   "cell_type": "code",
   "execution_count": 14,
   "id": "7ae286c2",
   "metadata": {},
   "outputs": [],
   "source": [
    "import numpy as np"
   ]
  },
  {
   "cell_type": "markdown",
   "id": "04ef53d9",
   "metadata": {},
   "source": [
    "## Da liste ad array con numpy"
   ]
  },
  {
   "cell_type": "code",
   "execution_count": 15,
   "id": "58a390ed",
   "metadata": {},
   "outputs": [
    {
     "data": {
      "text/plain": [
       "array([1, 2, 3, 4, 5, 6])"
      ]
     },
     "execution_count": 15,
     "metadata": {},
     "output_type": "execute_result"
    }
   ],
   "source": [
    "lista = [1, 2, 3, 4, 5, 6]\n",
    "\n",
    "lista_array = np.array(lista)\n",
    "lista_array"
   ]
  },
  {
   "cell_type": "markdown",
   "id": "5d4f2b6b",
   "metadata": {},
   "source": [
    "## array di 0 e array di 1"
   ]
  },
  {
   "cell_type": "code",
   "execution_count": 16,
   "id": "a2013f0f",
   "metadata": {},
   "outputs": [
    {
     "data": {
      "text/plain": [
       "array([0, 0, 0, 0, 0, 0, 0, 0, 0, 0])"
      ]
     },
     "execution_count": 16,
     "metadata": {},
     "output_type": "execute_result"
    }
   ],
   "source": [
    "np.zeros(10, dtype = int)"
   ]
  },
  {
   "cell_type": "code",
   "execution_count": 17,
   "id": "5b225d06",
   "metadata": {},
   "outputs": [
    {
     "data": {
      "text/plain": [
       "array([[0, 0, 0, 0, 0, 0, 0, 0, 0, 0],\n",
       "       [0, 0, 0, 0, 0, 0, 0, 0, 0, 0],\n",
       "       [0, 0, 0, 0, 0, 0, 0, 0, 0, 0],\n",
       "       [0, 0, 0, 0, 0, 0, 0, 0, 0, 0],\n",
       "       [0, 0, 0, 0, 0, 0, 0, 0, 0, 0]])"
      ]
     },
     "execution_count": 17,
     "metadata": {},
     "output_type": "execute_result"
    }
   ],
   "source": [
    "np.zeros((5, 10), dtype = int)"
   ]
  },
  {
   "cell_type": "code",
   "execution_count": 18,
   "id": "a62ae968",
   "metadata": {},
   "outputs": [
    {
     "data": {
      "text/plain": [
       "array([[1, 1, 1, 1, 1, 1, 1, 1, 1, 1],\n",
       "       [1, 1, 1, 1, 1, 1, 1, 1, 1, 1],\n",
       "       [1, 1, 1, 1, 1, 1, 1, 1, 1, 1],\n",
       "       [1, 1, 1, 1, 1, 1, 1, 1, 1, 1],\n",
       "       [1, 1, 1, 1, 1, 1, 1, 1, 1, 1]])"
      ]
     },
     "execution_count": 18,
     "metadata": {},
     "output_type": "execute_result"
    }
   ],
   "source": [
    "np.ones((5, 10), dtype = int)"
   ]
  },
  {
   "cell_type": "markdown",
   "id": "5612ffdb",
   "metadata": {},
   "source": [
    "## numpy random"
   ]
  },
  {
   "cell_type": "markdown",
   "id": "db6c9157",
   "metadata": {},
   "source": [
    "### - random.uniform"
   ]
  },
  {
   "cell_type": "code",
   "execution_count": 19,
   "id": "592ba14b",
   "metadata": {},
   "outputs": [
    {
     "data": {
      "text/plain": [
       "0.5977373695475234"
      ]
     },
     "execution_count": 19,
     "metadata": {},
     "output_type": "execute_result"
    }
   ],
   "source": [
    "np.random.uniform() # con uniform si trovano valori da 0 a 1"
   ]
  },
  {
   "cell_type": "code",
   "execution_count": 20,
   "id": "d06dc3b9",
   "metadata": {
    "scrolled": true
   },
   "outputs": [
    {
     "data": {
      "text/plain": [
       "array([0.69079193, 0.93027483, 0.5487431 , 0.4577048 , 0.72399694,\n",
       "       0.8874777 , 0.93229554, 0.04520423, 0.40172983, 0.42561241,\n",
       "       0.08870448, 0.2306272 , 0.70737758, 0.70444117, 0.30945359,\n",
       "       0.89007927, 0.18035597, 0.18424124, 0.01167716, 0.41148443,\n",
       "       0.60543353, 0.73933118, 0.52283691, 0.50868902, 0.08021266,\n",
       "       0.10572695, 0.52888393, 0.56400549, 0.11888061, 0.81341898,\n",
       "       0.74296063, 0.28691926, 0.94468969, 0.4638422 , 0.30524069,\n",
       "       0.87780449, 0.82675189, 0.5227451 , 0.65991516, 0.60167228,\n",
       "       0.14416828, 0.64613927, 0.39327494, 0.87442719, 0.10949059,\n",
       "       0.97888184, 0.92733335, 0.43378704, 0.62664807, 0.21164707,\n",
       "       0.90997402, 0.49050675, 0.62314328, 0.08137639, 0.94105184,\n",
       "       0.33435263, 0.10740898, 0.46032057, 0.59317126, 0.56757981,\n",
       "       0.18086031, 0.95379386, 0.99713734, 0.31622314, 0.5430398 ,\n",
       "       0.44377789, 0.97192733, 0.48837177, 0.90084529, 0.41762293,\n",
       "       0.64706521, 0.82490161, 0.26867054, 0.05590839, 0.49200891,\n",
       "       0.35703218, 0.1287378 , 0.31623279, 0.3581322 , 0.55519395,\n",
       "       0.85683297, 0.61727021, 0.77675747, 0.66566377, 0.77373325,\n",
       "       0.78221564, 0.85296688, 0.63585968, 0.88549544, 0.02052805,\n",
       "       0.28887441, 0.73163683, 0.13895083, 0.64390193, 0.16811423,\n",
       "       0.96968896, 0.9216277 , 0.76713544, 0.6820035 , 0.97114729])"
      ]
     },
     "execution_count": 20,
     "metadata": {},
     "output_type": "execute_result"
    }
   ],
   "source": [
    "np.random.uniform(size = 100) # si generea un array di 100 elementi con valori tra 0 e 1"
   ]
  },
  {
   "cell_type": "markdown",
   "id": "2fb409ad",
   "metadata": {},
   "source": [
    "### - random.normal"
   ]
  },
  {
   "cell_type": "code",
   "execution_count": 22,
   "id": "0454fa66",
   "metadata": {},
   "outputs": [
    {
     "data": {
      "text/plain": [
       "-0.22850751378709502"
      ]
     },
     "execution_count": 22,
     "metadata": {},
     "output_type": "execute_result"
    }
   ],
   "source": [
    "np.random.normal()"
   ]
  },
  {
   "cell_type": "code",
   "execution_count": 23,
   "id": "95c81f30",
   "metadata": {},
   "outputs": [
    {
     "data": {
      "text/plain": [
       "array([ 0.45677678, -0.16938614,  0.67983861, -0.86174031,  0.30248604,\n",
       "        0.89312599, -0.16157942, -1.32056145,  1.2893344 ,  0.99447703])"
      ]
     },
     "execution_count": 23,
     "metadata": {},
     "output_type": "execute_result"
    }
   ],
   "source": [
    "np.random.normal(size = 10)"
   ]
  },
  {
   "cell_type": "code",
   "execution_count": 25,
   "id": "9cc4a667",
   "metadata": {},
   "outputs": [
    {
     "data": {
      "text/plain": [
       "array([6.74791415, 2.70659028, 4.43537001, 4.09981189, 4.69375639,\n",
       "       2.84471101, 3.11982888, 6.90180423, 4.64650546, 4.66975667,\n",
       "       6.92064699, 5.43984602, 2.69732272, 5.35439972, 6.27561568,\n",
       "       5.59788741, 6.02004786, 4.27304897, 6.53741952, 5.97230627,\n",
       "       4.20197354, 4.66630291, 4.02924408, 6.40616781, 4.25738594,\n",
       "       6.02472341, 5.17656553, 5.74489561, 5.03071567, 5.306388  ,\n",
       "       5.716058  , 3.58013063, 4.60848904, 6.09830324, 5.35778136,\n",
       "       6.37368927, 6.13155681, 4.72861203, 5.4841169 , 4.80054799,\n",
       "       4.55214327, 3.73456006, 4.99776528, 7.06884449, 2.84704163,\n",
       "       4.29980942, 3.04912408, 5.67074173, 5.58965161, 3.33349825,\n",
       "       4.0818822 , 5.43840496, 5.07770777, 5.0861023 , 5.17852661,\n",
       "       6.078788  , 3.75127808, 7.07954335, 5.25892469, 6.31326169,\n",
       "       6.04281847, 6.84894702, 4.62412426, 5.8174338 , 3.40551461,\n",
       "       4.38933958, 4.62670809, 4.02470744, 4.56404049, 5.02784133,\n",
       "       4.56504949, 5.71420388, 6.21054361, 3.67101674, 4.77480041,\n",
       "       4.92828712, 5.44325233, 4.68265583, 5.78427484, 4.13853413,\n",
       "       4.22017454, 5.99618084, 5.35560596, 3.310051  , 5.69057609,\n",
       "       6.02233239, 6.52430293, 3.91598529, 3.94988087, 6.14406651,\n",
       "       6.09409767, 5.21317141, 6.59459093, 6.46974055, 3.57028721,\n",
       "       5.89480686, 6.43117949, 5.7710248 , 5.45853509, 4.62717582])"
      ]
     },
     "execution_count": 25,
     "metadata": {},
     "output_type": "execute_result"
    }
   ],
   "source": [
    "np.random.normal(loc = 5, scale = 1, size = 100)"
   ]
  },
  {
   "cell_type": "markdown",
   "id": "855a30a9",
   "metadata": {},
   "source": [
    "### - random.random_integers"
   ]
  },
  {
   "cell_type": "code",
   "execution_count": 28,
   "id": "4c8ab78f",
   "metadata": {},
   "outputs": [
    {
     "name": "stderr",
     "output_type": "stream",
     "text": [
      "<ipython-input-28-4de87bc326dc>:1: DeprecationWarning: This function is deprecated. Please call randint(0, 90 + 1) instead\n",
      "  np.random.random_integers(low = 0, high = 90, size = 100)\n"
     ]
    },
    {
     "data": {
      "text/plain": [
       "array([30, 38, 35, 26, 80, 25, 61, 86, 61, 44, 21, 43, 89, 79, 70, 43, 25,\n",
       "       33, 17, 57,  0, 73, 67, 37, 38, 28, 26, 17, 34, 58, 69, 25, 64, 24,\n",
       "       71, 75, 19, 79, 76,  0, 85, 27, 33, 18, 54, 15, 62, 71,  4, 50, 37,\n",
       "       66, 54, 90, 72, 82, 61, 78, 31, 88,  1,  5, 53, 29, 84, 60,  3, 62,\n",
       "       51, 60, 27, 84, 11, 61, 46, 18,  6, 20, 73,  2, 85, 37, 38, 28, 45,\n",
       "       39, 58,  2, 68, 19, 80, 29, 43, 26, 46, 85, 18,  3, 60, 77])"
      ]
     },
     "execution_count": 28,
     "metadata": {},
     "output_type": "execute_result"
    }
   ],
   "source": [
    "np.random.random_integers(low = 0, high = 90, size = 100) # interi da 0 a 90, in un array da 100 elementi"
   ]
  },
  {
   "cell_type": "markdown",
   "id": "b6fb0b7d",
   "metadata": {},
   "source": [
    "### - random.choise"
   ]
  },
  {
   "cell_type": "code",
   "execution_count": 33,
   "id": "8f532c52",
   "metadata": {},
   "outputs": [
    {
     "data": {
      "text/plain": [
       "array(['Testa', 'Testa', 'Croce', 'Croce', 'Croce', 'Croce', 'Testa',\n",
       "       'Croce', 'Testa', 'Testa'], dtype='<U5')"
      ]
     },
     "execution_count": 33,
     "metadata": {},
     "output_type": "execute_result"
    }
   ],
   "source": [
    "np.random.choice([\"Testa\", \"Croce\"], size = 10) # scelta tra \"Testa\" e \"Croce\", in un array di 10 elementi "
   ]
  },
  {
   "cell_type": "markdown",
   "id": "8e93bc3c",
   "metadata": {},
   "source": [
    "## MATRICI"
   ]
  },
  {
   "cell_type": "code",
   "execution_count": 46,
   "id": "8c743f93",
   "metadata": {
    "scrolled": true
   },
   "outputs": [
    {
     "name": "stdout",
     "output_type": "stream",
     "text": [
      "[[0.05213581 0.99044847 0.9403662  0.18817322 0.55125633]\n",
      " [0.62731244 0.82380801 0.52042583 0.00739013 0.64408153]\n",
      " [0.34283007 0.80341952 0.70113802 0.89508324 0.36013809]\n",
      " [0.22058479 0.4878127  0.27814865 0.55106176 0.12539226]]\n"
     ]
    }
   ],
   "source": [
    "matrice = np.random.uniform(size = (4, 5))\n",
    "print(matrice)"
   ]
  },
  {
   "cell_type": "code",
   "execution_count": 47,
   "id": "dc8d37f9",
   "metadata": {},
   "outputs": [
    {
     "name": "stdout",
     "output_type": "stream",
     "text": [
      "(4, 5)\n",
      "20\n"
     ]
    }
   ],
   "source": [
    "print(np.shape(matrice))\n",
    "print(np.size(matrice))"
   ]
  },
  {
   "cell_type": "code",
   "execution_count": 48,
   "id": "8a376563",
   "metadata": {},
   "outputs": [
    {
     "name": "stdout",
     "output_type": "stream",
     "text": [
      "(5,)\n",
      "5\n"
     ]
    }
   ],
   "source": [
    "vettore = np.array([1, 2, 3, 4, 5])\n",
    "\n",
    "print(np.shape(vettore))\n",
    "print(np.size(vettore)) "
   ]
  },
  {
   "cell_type": "code",
   "execution_count": 49,
   "id": "217fb38b",
   "metadata": {},
   "outputs": [
    {
     "data": {
      "text/plain": [
       "array([[0.05213581, 0.99044847, 0.9403662 , 0.18817322, 0.55125633],\n",
       "       [0.62731244, 0.82380801, 0.52042583, 0.00739013, 0.64408153],\n",
       "       [0.34283007, 0.80341952, 0.70113802, 0.89508324, 0.36013809],\n",
       "       [0.22058479, 0.4878127 , 0.27814865, 0.55106176, 0.12539226]])"
      ]
     },
     "execution_count": 49,
     "metadata": {},
     "output_type": "execute_result"
    }
   ],
   "source": [
    "matrice"
   ]
  },
  {
   "cell_type": "code",
   "execution_count": 50,
   "id": "431a4310",
   "metadata": {
    "scrolled": true
   },
   "outputs": [
    {
     "name": "stdout",
     "output_type": "stream",
     "text": [
      "[0.05213581 0.99044847 0.9403662  0.18817322 0.55125633 0.62731244\n",
      " 0.82380801 0.52042583 0.00739013 0.64408153 0.34283007 0.80341952\n",
      " 0.70113802 0.89508324 0.36013809 0.22058479 0.4878127  0.27814865\n",
      " 0.55106176 0.12539226]\n"
     ]
    }
   ],
   "source": [
    "matrice1 = np.ravel(matrice) # conpatta la matrice su un unica riga\n",
    "\n",
    "print(matrice1)"
   ]
  },
  {
   "cell_type": "code",
   "execution_count": 51,
   "id": "362b12d6",
   "metadata": {},
   "outputs": [
    {
     "data": {
      "text/plain": [
       "array([[0.05213581, 0.99044847],\n",
       "       [0.9403662 , 0.18817322],\n",
       "       [0.55125633, 0.62731244],\n",
       "       [0.82380801, 0.52042583],\n",
       "       [0.00739013, 0.64408153],\n",
       "       [0.34283007, 0.80341952],\n",
       "       [0.70113802, 0.89508324],\n",
       "       [0.36013809, 0.22058479],\n",
       "       [0.4878127 , 0.27814865],\n",
       "       [0.55106176, 0.12539226]])"
      ]
     },
     "execution_count": 51,
     "metadata": {},
     "output_type": "execute_result"
    }
   ],
   "source": [
    "matrice.reshape(10, 2) \n",
    "# riformula la matrice secondo il nuovo ordine, il numero di elementi deve essere uguale al numeor elementi originari\n"
   ]
  },
  {
   "cell_type": "code",
   "execution_count": 53,
   "id": "842b1dcb",
   "metadata": {},
   "outputs": [
    {
     "data": {
      "text/plain": [
       "array([[0.05213581, 0.62731244, 0.34283007, 0.22058479],\n",
       "       [0.99044847, 0.82380801, 0.80341952, 0.4878127 ],\n",
       "       [0.9403662 , 0.52042583, 0.70113802, 0.27814865],\n",
       "       [0.18817322, 0.00739013, 0.89508324, 0.55106176],\n",
       "       [0.55125633, 0.64408153, 0.36013809, 0.12539226]])"
      ]
     },
     "execution_count": 53,
     "metadata": {},
     "output_type": "execute_result"
    }
   ],
   "source": [
    "np.transpose(matrice)"
   ]
  },
  {
   "cell_type": "markdown",
   "id": "c724479b",
   "metadata": {},
   "source": [
    "# Esercizio"
   ]
  },
  {
   "cell_type": "code",
   "execution_count": 87,
   "id": "b56e5af5",
   "metadata": {},
   "outputs": [
    {
     "name": "stdout",
     "output_type": "stream",
     "text": [
      "[5 6 6 ... 3 3 3]\n"
     ]
    }
   ],
   "source": [
    "# quante volte esce il numero 6 se tiro il dado 10'000 volte\n",
    "lanci_dado = np.random.randint(1, 7, 10000)\n",
    "print(lanci_dado)"
   ]
  },
  {
   "cell_type": "code",
   "execution_count": 88,
   "id": "1cc94f59",
   "metadata": {},
   "outputs": [
    {
     "data": {
      "text/plain": [
       "0.168"
      ]
     },
     "execution_count": 88,
     "metadata": {},
     "output_type": "execute_result"
    }
   ],
   "source": [
    "np.count_nonzero(lanci_dado == 6) / 10000 # numero di volte uscito il 6 in 10000 lanci, in probabilità"
   ]
  },
  {
   "cell_type": "code",
   "execution_count": 86,
   "id": "2269df03",
   "metadata": {},
   "outputs": [
    {
     "data": {
      "text/plain": [
       "0.16666666666666666"
      ]
     },
     "execution_count": 86,
     "metadata": {},
     "output_type": "execute_result"
    }
   ],
   "source": [
    "1 / 6 # calcolo teorico delle probabilità"
   ]
  },
  {
   "cell_type": "code",
   "execution_count": 89,
   "id": "d1ae4700",
   "metadata": {},
   "outputs": [
    {
     "name": "stdout",
     "output_type": "stream",
     "text": [
      "[6 3 4 ... 6 1 6]\n"
     ]
    }
   ],
   "source": [
    "# se tiro un dado 10'000 volte, quante volte esce un numero >= 4\n",
    "lanci_dado = np.random.randint(1, 7, 10000)\n",
    "print(lanci_dado)"
   ]
  },
  {
   "cell_type": "code",
   "execution_count": 93,
   "id": "32091307",
   "metadata": {},
   "outputs": [
    {
     "data": {
      "text/plain": [
       "0.5062"
      ]
     },
     "execution_count": 93,
     "metadata": {},
     "output_type": "execute_result"
    }
   ],
   "source": [
    "np.count_nonzero(lanci_dado >= 4) / 10000 # numero di volte uscito il numero >= 4 in 10000 lanci, in probabilità"
   ]
  },
  {
   "cell_type": "code",
   "execution_count": 94,
   "id": "948f4653",
   "metadata": {},
   "outputs": [
    {
     "data": {
      "text/plain": [
       "0.5"
      ]
     },
     "execution_count": 94,
     "metadata": {},
     "output_type": "execute_result"
    }
   ],
   "source": [
    "3 / 6 # calcolo teorico"
   ]
  },
  {
   "cell_type": "code",
   "execution_count": 95,
   "id": "40a6279b",
   "metadata": {},
   "outputs": [],
   "source": [
    "# quante volte esce il numero 6 se tiro 2 dadi 10'000 volte ciascuno\n",
    "lanci_dado1 = np.random.randint(1, 7, 10000)\n",
    "lanci_dado2 = np.random.randint(1, 7, 10000)"
   ]
  },
  {
   "cell_type": "code",
   "execution_count": 97,
   "id": "1497be25",
   "metadata": {},
   "outputs": [
    {
     "data": {
      "text/plain": [
       "array([ 9,  5,  8, ...,  7, 10,  3])"
      ]
     },
     "execution_count": 97,
     "metadata": {},
     "output_type": "execute_result"
    }
   ],
   "source": [
    "lanci_dado1 + lanci_dado2"
   ]
  },
  {
   "cell_type": "code",
   "execution_count": 99,
   "id": "243b39c0",
   "metadata": {},
   "outputs": [
    {
     "data": {
      "text/plain": [
       "array([ True, False,  True, ...,  True,  True, False])"
      ]
     },
     "execution_count": 99,
     "metadata": {},
     "output_type": "execute_result"
    }
   ],
   "source": [
    "lanci_dado1 + lanci_dado2 > 6"
   ]
  },
  {
   "cell_type": "code",
   "execution_count": 100,
   "id": "85f4cd98",
   "metadata": {},
   "outputs": [
    {
     "data": {
      "text/plain": [
       "0.5885"
      ]
     },
     "execution_count": 100,
     "metadata": {},
     "output_type": "execute_result"
    }
   ],
   "source": [
    "np.count_nonzero(lanci_dado1 + lanci_dado2 > 6) / 10000"
   ]
  }
 ],
 "metadata": {
  "kernelspec": {
   "display_name": "Python 3",
   "language": "python",
   "name": "python3"
  },
  "language_info": {
   "codemirror_mode": {
    "name": "ipython",
    "version": 3
   },
   "file_extension": ".py",
   "mimetype": "text/x-python",
   "name": "python",
   "nbconvert_exporter": "python",
   "pygments_lexer": "ipython3",
   "version": "3.8.8"
  }
 },
 "nbformat": 4,
 "nbformat_minor": 5
}
