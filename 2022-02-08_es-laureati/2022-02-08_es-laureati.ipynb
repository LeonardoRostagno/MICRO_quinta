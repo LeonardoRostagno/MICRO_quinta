{
 "cells": [
  {
   "cell_type": "code",
   "execution_count": 1,
   "id": "c83c6af2",
   "metadata": {},
   "outputs": [],
   "source": [
    "import pandas as pd"
   ]
  },
  {
   "cell_type": "markdown",
   "id": "1cf1616e",
   "metadata": {},
   "source": [
    "\tScarica questi dati (http://dati.ustat.miur.it/dataset/laureati) in formato csv e utilizza pandas per: \n",
    "    - › caricare i dati di ciascun csv all’interno di un dataframe; \n",
    "    - › creare un’aggregazione del numero di laureati per ateneo; \n",
    "    - › creare un’aggregazione del numero di laureati per residenza; \n",
    "    - › creare un’aggregazione del numero di laureati per sesso; \n",
    "    - › creare un’aggregazione del numero di laureati per tipo di laurea; \n",
    "    - › creare un’aggregazione del numero di laureati per sesso e per tipo di laurea."
   ]
  },
  {
   "cell_type": "markdown",
   "id": "6f763857",
   "metadata": {},
   "source": [
    "### caricare i dati di ciascun csv all’interno di un dataframe"
   ]
  },
  {
   "cell_type": "code",
   "execution_count": 5,
   "id": "047bc4f4",
   "metadata": {},
   "outputs": [],
   "source": [
    "def NaN_control(dataframe) :\n",
    "    df_not_NaN = dataframe.dropna()\n",
    "\n",
    "    if dataframe.size != df_not_NaN.size :\n",
    "        dataframe.dropna(inplace = True)"
   ]
  },
  {
   "cell_type": "code",
   "execution_count": 6,
   "id": "7499bb16",
   "metadata": {},
   "outputs": [],
   "source": [
    "df_laureatixanno = pd.read_csv(\"./laureatixanno.csv\")\n",
    "# df_laureatixateneo = pd.read_csv(\"./laureatixateneo.csv\") # errore di jupiter sul file\n",
    "df_laureatixgruppo = pd.read_csv(\"./laureatixgruppo.csv\")\n",
    "df_laureatixtipocorso = pd.read_csv(\"./laureatixtipocorso.csv\")\n",
    "# df_laureatixclasse = pd.read_csv(\"./laureatixclasse.csv\") # errore di jupiter sul file\n",
    "df_laureatixresidenza = pd.read_csv(\"./laureatixresidenza.csv\")\n",
    "# df_laureatixcorsostudio2010_2014 = pd.read_csv(\"./laureatixcorso_2010-2014.csv\") # errore di jupiter sul file\n",
    "# df_laureatixcorsostudio2015_2019 = pd.read_csv(\"./laureatixcorso_2015-2019.csv\") # errore di jupiter sul file\n",
    "df_laureatixannonascita = pd.read_csv(\"./laureatixannonascita.csv\")\n",
    "df_laureatistranieri = pd.read_csv(\"./laureatistranierixanno.csv\")\n",
    "\n",
    "list_df_laureati = [df_laureatixanno, df_laureatixgruppo, df_laureatixtipocorso, \n",
    "                    df_laureatixresidenza, df_laureatixannonascita, df_laureatistranieri] # lista per for"
   ]
  },
  {
   "cell_type": "code",
   "execution_count": 8,
   "id": "3c4cad2f",
   "metadata": {},
   "outputs": [],
   "source": [
    "for a in range(0, len(list_df_laureati)-1) :\n",
    "    list_df_laureati[a] = NaN_control(list_df_laureati[a])"
   ]
  },
  {
   "cell_type": "markdown",
   "id": "4a8a7d37",
   "metadata": {},
   "source": [
    "### creare un’aggregazione del numero di laureati per ateneo"
   ]
  },
  {
   "cell_type": "code",
   "execution_count": null,
   "id": "0d0c86d4",
   "metadata": {},
   "outputs": [],
   "source": []
  },
  {
   "cell_type": "markdown",
   "id": "c6d308ad",
   "metadata": {},
   "source": [
    "### creare un’aggregazione del numero di laureati per residenza"
   ]
  },
  {
   "cell_type": "code",
   "execution_count": null,
   "id": "7b57bef2",
   "metadata": {},
   "outputs": [],
   "source": []
  },
  {
   "cell_type": "markdown",
   "id": "3009e3fc",
   "metadata": {},
   "source": [
    "### creare un’aggregazione del numero di laureati per sesso"
   ]
  },
  {
   "cell_type": "code",
   "execution_count": null,
   "id": "bdbad866",
   "metadata": {},
   "outputs": [],
   "source": []
  },
  {
   "cell_type": "markdown",
   "id": "1f8800b0",
   "metadata": {},
   "source": [
    "### creare un’aggregazione del numero di laureati per tipo di laurea"
   ]
  },
  {
   "cell_type": "code",
   "execution_count": null,
   "id": "a5ec573e",
   "metadata": {},
   "outputs": [],
   "source": []
  },
  {
   "cell_type": "markdown",
   "id": "bf22eb67",
   "metadata": {},
   "source": [
    "### creare un’aggregazione del numero di laureati per sesso e per tipo di laurea"
   ]
  },
  {
   "cell_type": "code",
   "execution_count": null,
   "id": "0bd6d370",
   "metadata": {},
   "outputs": [],
   "source": []
  }
 ],
 "metadata": {
  "kernelspec": {
   "display_name": "Python 3",
   "language": "python",
   "name": "python3"
  },
  "language_info": {
   "codemirror_mode": {
    "name": "ipython",
    "version": 3
   },
   "file_extension": ".py",
   "mimetype": "text/x-python",
   "name": "python",
   "nbconvert_exporter": "python",
   "pygments_lexer": "ipython3",
   "version": "3.8.8"
  }
 },
 "nbformat": 4,
 "nbformat_minor": 5
}
