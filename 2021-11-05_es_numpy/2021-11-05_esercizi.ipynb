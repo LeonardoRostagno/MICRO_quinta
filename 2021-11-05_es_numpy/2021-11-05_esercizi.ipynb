{
 "cells": [
  {
   "cell_type": "code",
   "execution_count": 11,
   "id": "bcee71da",
   "metadata": {},
   "outputs": [],
   "source": [
    "import numpy as np"
   ]
  },
  {
   "cell_type": "markdown",
   "id": "78e3a5b6",
   "metadata": {},
   "source": [
    "-1: Creare una funzione che inverta un ndarray monodimensionale"
   ]
  },
  {
   "cell_type": "code",
   "execution_count": 12,
   "id": "e1b03fba",
   "metadata": {},
   "outputs": [
    {
     "name": "stdout",
     "output_type": "stream",
     "text": [
      "[7 6 5 4 3 2 1 0]\n"
     ]
    }
   ],
   "source": [
    "# mod_1\n",
    "array = np.array([0, 1, 2, 3, 4, 5, 6, 7]) # array\n",
    "\n",
    "array_inv = np.flip(array)\n",
    "\n",
    "print(array_inv)"
   ]
  },
  {
   "cell_type": "code",
   "execution_count": 13,
   "id": "ece9b326",
   "metadata": {},
   "outputs": [
    {
     "name": "stdout",
     "output_type": "stream",
     "text": [
      "[7 6 5 4 3 2 1 0]\n"
     ]
    }
   ],
   "source": [
    "#mod_2\n",
    "array = np.array([0, 1, 2, 3, 4, 5, 6, 7]) # array\n",
    "\n",
    "array_invert = array[::-1]\n",
    "\n",
    "print(array_invert)"
   ]
  },
  {
   "cell_type": "markdown",
   "id": "0163abf0",
   "metadata": {},
   "source": [
    "-2: Generare un array Numpy che contenga le posizioni dei primi 100 numeri primi all'interno dei numeri naturali."
   ]
  },
  {
   "cell_type": "code",
   "execution_count": 14,
   "id": "3d83d80b",
   "metadata": {},
   "outputs": [
    {
     "name": "stdout",
     "output_type": "stream",
     "text": [
      "[0, 1, 2, 4, 6, 10, 12, 16, 18, 22, 28, 30, 36, 40, 42, 46, 52, 58, 60, 66, 70, 72, 78, 82, 88, 96, 100, 102, 106, 108, 112, 126, 130, 136, 138, 148, 150, 156, 162, 166, 172, 178, 180, 190, 192, 196, 198, 210, 222, 226, 228, 232, 238, 240, 250, 256, 262, 268, 270, 276, 280, 282, 292, 306, 310, 312, 316, 330, 336, 346, 348, 352, 358, 366, 372, 378, 382, 388, 396, 400, 408, 418, 420, 430, 432, 438, 442, 448, 456, 460, 462, 466, 478, 486, 490, 498, 502, 508, 520, 522]\n"
     ]
    }
   ],
   "source": [
    "primi = [0, 1]\n",
    "\n",
    "n = 0\n",
    "k = 3\n",
    "\n",
    "while n < 98:\n",
    "    minori = np.arange(2, k)\n",
    "    tmp = np.full(k - 2, k, dtype = int)\n",
    "    \n",
    "    if np.count_nonzero(tmp % minori) == (k - 2) :\n",
    "        primi.append(k - 1)\n",
    "        n += 1\n",
    "        \n",
    "    k += 1\n",
    "\n",
    "print(primi)"
   ]
  },
  {
   "cell_type": "markdown",
   "id": "08d306d2",
   "metadata": {},
   "source": [
    "-3: Generare un array Numpy contenente i primi 10 numeri di Fibonacci"
   ]
  },
  {
   "cell_type": "code",
   "execution_count": null,
   "id": "411db233",
   "metadata": {},
   "outputs": [],
   "source": [
    "arr_fibonacci = np.ones(11, dtype = int)\n",
    "\n",
    "for a in range(2, 11):\n",
    "    arr_fibonacci[a] = arr_fibonacci[a - 1] + arr_fibonacci[a - 2]\n",
    "    \n",
    "print(start[1:])"
   ]
  }
 ],
 "metadata": {
  "kernelspec": {
   "display_name": "Python 3",
   "language": "python",
   "name": "python3"
  },
  "language_info": {
   "codemirror_mode": {
    "name": "ipython",
    "version": 3
   },
   "file_extension": ".py",
   "mimetype": "text/x-python",
   "name": "python",
   "nbconvert_exporter": "python",
   "pygments_lexer": "ipython3",
   "version": "3.8.8"
  }
 },
 "nbformat": 4,
 "nbformat_minor": 5
}
