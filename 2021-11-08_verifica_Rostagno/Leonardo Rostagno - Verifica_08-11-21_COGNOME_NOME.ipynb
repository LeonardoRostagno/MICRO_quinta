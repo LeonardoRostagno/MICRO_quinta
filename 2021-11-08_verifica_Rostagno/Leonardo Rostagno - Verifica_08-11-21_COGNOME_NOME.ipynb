{
 "cells": [
  {
   "cell_type": "markdown",
   "id": "58c15881",
   "metadata": {},
   "source": [
    "# Rostagno Leonardo"
   ]
  },
  {
   "cell_type": "markdown",
   "id": "fa2ae6b5",
   "metadata": {},
   "source": [
    "# Esercizio 1\n",
    "Ogni giorno tu e un tuo compagno vi giocate la merenda giornaliera lanciando due dadi a sei facce. Ogni giorno, la merenda è tua se dopo un certo numero `n_lanci` di lanci dei due dadi esce un valore maggiore o uguale a 10. Supponendo 200 giorni di scuola totali, scrivi una funzione che:\n",
    "- faccia uso di della libreria `numpy`;\n",
    "- abbia `n_lanci` come parametro;\n",
    "- restituisca il numero totale di giorni in cui vinci tu la merenda, simulando i lanci dei dadi per i 200 giorni di scuola.\n",
    "\n",
    "**[BONUS]** Quanto deve valere `n_lanci` affinchè il gioco sia equo?\n",
    "\n",
    "# Esercizio 2\n",
    "Creare un notebook jupyter che a partire dal testo contenuto nel file ___\"J_Verne_girodelmondoin80giorni.txt\"___:\n",
    "\n",
    "1. crei un dizionario delle frequenze per ciascun carattere (**line feed escluso**); \n",
    "2. crei il dizionario delle adiacenze per ciascun carattere (**line feed escluso**);\n",
    "3. **[FACOLTATIVO]** crei un indice dei capitoli. Ogni capitolo inizia riportando il numero romano del capitolo e il suo titolo in questo modo:\n",
    "\n",
    ">CAPITOLO XXIX.\n",
    ">\n",
    ">Nel quale si narrano cose che capitano unicamente sulle ferrovie\n",
    ">americane.\n"
   ]
  },
  {
   "cell_type": "markdown",
   "id": "65d33877",
   "metadata": {},
   "source": [
    "Esercizio 1"
   ]
  },
  {
   "cell_type": "code",
   "execution_count": 63,
   "id": "97ba701e",
   "metadata": {},
   "outputs": [],
   "source": [
    "import numpy as np"
   ]
  },
  {
   "cell_type": "code",
   "execution_count": 69,
   "id": "408ce369",
   "metadata": {},
   "outputs": [],
   "source": [
    "def conta_lanci(n_lanci) :\n",
    "    lancio_dado_1 = np.random.randint(1, 7, n_lanci)\n",
    "    lancio_dado_2 = np.random.randint(1, 7, n_lanci)\n",
    "    \n",
    "    np.count_nonzero(lancio_dado_1 + lancio_dado_2 >= 10) / 200"
   ]
  },
  {
   "cell_type": "code",
   "execution_count": 71,
   "id": "37f0b525",
   "metadata": {},
   "outputs": [
    {
     "name": "stdout",
     "output_type": "stream",
     "text": [
      "Inserire il numero di lanci da fare al giorno: 2\n",
      "None\n"
     ]
    }
   ],
   "source": [
    "if __name__ == \"__main__\" :\n",
    "    n_lanci = int(input(\"Inserire il numero di lanci da fare al giorno: \"))\n",
    "\n",
    "    print(conta_lanci(n_lanci))"
   ]
  },
  {
   "cell_type": "markdown",
   "id": "d672264a",
   "metadata": {},
   "source": [
    "Esercizio 2"
   ]
  },
  {
   "cell_type": "code",
   "execution_count": 66,
   "id": "d9922bbf",
   "metadata": {},
   "outputs": [],
   "source": [
    "dizionario_freq = {}\n",
    "dizionario_adia = {}"
   ]
  },
  {
   "cell_type": "code",
   "execution_count": 67,
   "id": "050f2234",
   "metadata": {},
   "outputs": [
    {
     "name": "stdout",
     "output_type": "stream",
     "text": [
      "{' ': 59718, 'I': 916, 'L': 498, 'G': 590, 'R': 169, 'O': 231, 'D': 231, 'E': 532, 'M': 422, 'N': 329, 'T': 189, 'A': 632, 'U': 145, 'V': 157, 'F': 1178, 'S': 665, ',': 6381, 'â': 3288, '€': 3288, '”': 896, '=': 2, 'Q': 192, 'u': 10152, 'i': 32215, 'n': 22842, 'd': 11885, 'c': 12687, 'e': 36940, 's': 18049, 'm': 8352, 'o': 29700, 'g': 8240, 'l': 20506, 'a': 37759, '.': 4127, '_': 858, 'p': 8380, 'r': 21059, 't': 19567, 'Ã': 2822, '¨': 607, 'v': 7140, '\\xa0': 526, '™': 1877, 'C': 550, '1': 104, '9': 15, '4': 29, 'P': 639, 'q': 1741, 'h': 3337, 'b': 3738, '8': 33, '7': 28, '2': 73, '-': 311, 'w': 116, 'B': 250, '¬': 431, '[': 16, ']': 16, '¹': 349, 'f': 3205, 'z': 2363, 'y': 254, 'k': 181, '²': 840, '?': 360, ';': 179, '!': 595, 'J': 48, 'œ': 267, 'ž': 248, '©': 4, 'H': 137, ':': 158, 'K': 112, '(': 45, '3': 28, '5': 46, ')': 45, 'ˆ': 52, '0': 107, 'Y': 83, '6': 14, 'x': 291, '/': 2, 'X': 57, 'j': 42, '®': 1, 'Z': 3, '´': 8, 'ª': 2, '¡': 2, 'W': 20, 'Â': 2, 'º': 2}\n"
     ]
    }
   ],
   "source": [
    "file = open(\"./Leonardo Rostagno - J_Verne_girodelmondoin80giorni.txt\", \"r\")\n",
    "\n",
    "for riga in file.readlines():\n",
    "    lista_righe = riga[:-1]\n",
    "    \n",
    "    for parola in lista_righe:        \n",
    "        for c in parola:\n",
    "            if c not in dizionario_freq.keys():\n",
    "                if c != \"\":\n",
    "                    dizionario_freq[c] = 1 \n",
    "            else:\n",
    "                dizionario_freq[c] += 1\n",
    "\n",
    "print(dizionario_freq)\n",
    "\n",
    "file.close()"
   ]
  },
  {
   "cell_type": "code",
   "execution_count": 68,
   "id": "4a074891",
   "metadata": {},
   "outputs": [
    {
     "name": "stdout",
     "output_type": "stream",
     "text": [
      "{}\n"
     ]
    }
   ],
   "source": [
    "file = open(\"./Leonardo Rostagno - J_Verne_girodelmondoin80giorni.txt\")\n",
    "\n",
    "for row in file.readlines():\n",
    "    lista_row = row[:-1]\n",
    "    \n",
    "    for word in lista_row:\n",
    "        for w in word:\n",
    "            for i, w in enumerate(parola):\n",
    "                if i < len(parola) - 1:\n",
    "                    if parola[i + 1] not in dizionario_adia:\n",
    "                        dizionario_adia[w] = parola[i + 1]\n",
    "                    \n",
    "print(dizionario_adia)\n",
    "\n",
    "file.close()"
   ]
  },
  {
   "cell_type": "code",
   "execution_count": null,
   "id": "109144fa",
   "metadata": {},
   "outputs": [],
   "source": []
  }
 ],
 "metadata": {
  "kernelspec": {
   "display_name": "Python 3",
   "language": "python",
   "name": "python3"
  },
  "language_info": {
   "codemirror_mode": {
    "name": "ipython",
    "version": 3
   },
   "file_extension": ".py",
   "mimetype": "text/x-python",
   "name": "python",
   "nbconvert_exporter": "python",
   "pygments_lexer": "ipython3",
   "version": "3.8.8"
  }
 },
 "nbformat": 4,
 "nbformat_minor": 5
}
