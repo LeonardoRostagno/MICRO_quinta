{
 "cells": [
  {
   "cell_type": "code",
   "execution_count": 1,
   "id": "c25bdafa",
   "metadata": {},
   "outputs": [],
   "source": [
    "import pandas as pd\n",
    "import numpy as np"
   ]
  },
  {
   "cell_type": "markdown",
   "id": "3dca7d08",
   "metadata": {},
   "source": [
    "## Esercizio 1\n",
    "Crea un file .csv a due colonne: la prima colonna contiene il nome della materia e la seconda contiene la valutazione. Riempi il file con le tue valutazioni di tutte le materie e caricalo in un dataframe di pandas facendo uso della funzione read_csv(). Verifica che i tipi delle colonne del dataframe siano quelli attesi. Salva il data- frame in un file Excel.\n"
   ]
  },
  {
   "cell_type": "code",
   "execution_count": 2,
   "id": "7e7fc191",
   "metadata": {},
   "outputs": [],
   "source": [
    "df_es1 = pd.read_csv(\"./voti.csv\")"
   ]
  },
  {
   "cell_type": "code",
   "execution_count": 3,
   "id": "bbbe42eb",
   "metadata": {},
   "outputs": [
    {
     "name": "stdout",
     "output_type": "stream",
     "text": [
      "<class 'pandas.core.frame.DataFrame'>\n",
      "RangeIndex: 11 entries, 0 to 10\n",
      "Data columns (total 2 columns):\n",
      " #   Column    Non-Null Count  Dtype \n",
      "---  ------    --------------  ----- \n",
      " 0   italiano  11 non-null     object\n",
      " 1    7        11 non-null     int64 \n",
      "dtypes: int64(1), object(1)\n",
      "memory usage: 304.0+ bytes\n"
     ]
    }
   ],
   "source": [
    "df_es1.info()"
   ]
  },
  {
   "cell_type": "code",
   "execution_count": 4,
   "id": "d2c9ab9c",
   "metadata": {},
   "outputs": [],
   "source": [
    "df_es1.to_excel(\"voti.xlsx\")"
   ]
  },
  {
   "cell_type": "markdown",
   "id": "8a7ad313",
   "metadata": {},
   "source": [
    "## Esercizio 2\n",
    "Scarica il file marziani.csv. Crea un notebook in cui:\n",
    "-carichi i dati su un dataframe;\n",
    "-verifichi la presenza di valori mancanti;\n",
    "-rimuovi i valori mancanti."
   ]
  },
  {
   "cell_type": "code",
   "execution_count": 5,
   "id": "b5692295",
   "metadata": {},
   "outputs": [],
   "source": [
    "df_es2 = pd.read_csv(\"./marziani.csv\")"
   ]
  },
  {
   "cell_type": "code",
   "execution_count": 10,
   "id": "d258fa01",
   "metadata": {},
   "outputs": [
    {
     "name": "stdout",
     "output_type": "stream",
     "text": [
      "Valori NaN non trovati\n"
     ]
    }
   ],
   "source": [
    "df_es2_not_NaN = df_es2.dropna()\n",
    "\n",
    "if df_es2.size != df_es2_not_NaN.size :\n",
    "    print(\"Valori NaN trovati\")\n",
    "else:\n",
    "    print(\"Valori NaN non trovati\")"
   ]
  },
  {
   "cell_type": "code",
   "execution_count": 8,
   "id": "9ad72dee",
   "metadata": {},
   "outputs": [],
   "source": [
    "df_es2.dropna(inplace = True)"
   ]
  },
  {
   "cell_type": "markdown",
   "id": "202939d2",
   "metadata": {},
   "source": [
    "## Esercizio 3\n",
    "Scarica il file registro_voti.csv che contiene le valutazioni di una classe per due prove di verifica (colonne Valutazione1 e Valutazione2). Crea un notebook in cui:\n",
    "-carichi il registro voti su un dataframe;\n",
    "-verifichi la presenza di valori mancanti;\n",
    "-è corretto rimuovere i valori mancanti con dropna()?"
   ]
  },
  {
   "cell_type": "code",
   "execution_count": 9,
   "id": "65708e94",
   "metadata": {},
   "outputs": [],
   "source": [
    "df_es3 = pd.read_csv(\"./registro_voti.csv\")"
   ]
  },
  {
   "cell_type": "code",
   "execution_count": 11,
   "id": "5082a051",
   "metadata": {},
   "outputs": [
    {
     "name": "stdout",
     "output_type": "stream",
     "text": [
      "Valori NaN trovati\n"
     ]
    }
   ],
   "source": [
    "df_es3_not_NaN = df_es3.dropna()\n",
    "\n",
    "if df_es3.size != df_es3_not_NaN.size :\n",
    "    print(\"Valori NaN trovati\")\n",
    "else:\n",
    "    print(\"Valori NaN non trovati\")"
   ]
  },
  {
   "cell_type": "markdown",
   "id": "4eb558df",
   "metadata": {},
   "source": [
    "Dipende. Dipende se uno vuole eliminare solamente il valore o se vuole eliminare la riga contenente il valore."
   ]
  }
 ],
 "metadata": {
  "kernelspec": {
   "display_name": "Python 3",
   "language": "python",
   "name": "python3"
  },
  "language_info": {
   "codemirror_mode": {
    "name": "ipython",
    "version": 3
   },
   "file_extension": ".py",
   "mimetype": "text/x-python",
   "name": "python",
   "nbconvert_exporter": "python",
   "pygments_lexer": "ipython3",
   "version": "3.8.8"
  }
 },
 "nbformat": 4,
 "nbformat_minor": 5
}
