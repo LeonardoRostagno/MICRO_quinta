{
 "cells": [
  {
   "cell_type": "code",
   "execution_count": 146,
   "id": "be8db9fd",
   "metadata": {},
   "outputs": [],
   "source": [
    "import numpy as np"
   ]
  },
  {
   "cell_type": "markdown",
   "id": "cdc3cf3c",
   "metadata": {},
   "source": [
    "# Letture File"
   ]
  },
  {
   "cell_type": "code",
   "execution_count": 147,
   "id": "d1bf79df",
   "metadata": {},
   "outputs": [],
   "source": [
    "diz_p1 = {} # temp - colle dell'agnello\n",
    "diz_p2 = {} # neve - diga del chiodas\n",
    "diz_p3 = {} # temp - dige del chiotas\n",
    "diz_p4 = {} # neve - colle dell'agnello"
   ]
  },
  {
   "cell_type": "markdown",
   "id": "482bd349",
   "metadata": {},
   "source": [
    "### File 2 - 4"
   ]
  },
  {
   "cell_type": "code",
   "execution_count": 163,
   "id": "8b2bd286",
   "metadata": {},
   "outputs": [],
   "source": [
    "def reader_file_2_4(nome_file, diz):\n",
    "    # creo liste ausiliarie\n",
    "    list_data = []\n",
    "    list_h_suolo = []\n",
    "    list_neve_fresca = []\n",
    "    \n",
    "    # apro il file e prendo il testo\n",
    "    file = open(nome_file, \"r\") # file neve - diga del chiodas\n",
    "    testo = file.readlines()[10:][:-1]\n",
    "    file.close()\n",
    "    \n",
    "    # inserisco gli elementi nelle liste ausiliarie\n",
    "    for riga in testo:\n",
    "        lista = riga.replace(\" \", \"\").replace(\"\\n\", \"\").split(\",\")\n",
    "\n",
    "        list_data.append(lista[0])\n",
    "        list_h_suolo.append(lista[1])\n",
    "        list_neve_fresca.append(lista[2])\n",
    "    \n",
    "    # creazione array numpy\n",
    "    arr_data = np.array(list_data)\n",
    "    arr_h_suolo = np.array(list_h_suolo)\n",
    "    arr_neve_fresca = np.array(list_neve_fresca)\n",
    "    \n",
    "    # inserisco nei dizionari gli array\n",
    "    diz[\"data\"] = arr_data\n",
    "    diz[\"h_suolo\"] = arr_h_suolo\n",
    "    diz[\"neve_fresca\"] = arr_neve_fresca"
   ]
  },
  {
   "cell_type": "markdown",
   "id": "b78f6bff",
   "metadata": {},
   "source": [
    "### File 1 - 3"
   ]
  },
  {
   "cell_type": "code",
   "execution_count": 149,
   "id": "4318d883",
   "metadata": {},
   "outputs": [],
   "source": [
    "def reader_file_1_3(nome_file, diz):\n",
    "    # creo liste ausiliarie\n",
    "    list_data = []\n",
    "    list_ora_min = []\n",
    "    list_ora_max = []\n",
    "    list_Tmin = []\n",
    "    list_Tmax = []\n",
    "    list_Tmed = []\n",
    "    list_CLmin = [] \n",
    "    list_CLmax = [] \n",
    "    list_CLmed = [] \n",
    "\n",
    "    # apro il file e prendo il testo\n",
    "    file = open(nome_file, \"r\") # file neve - diga del chiodas\n",
    "    testo = file.readlines()[10:][:-1]\n",
    "    file.close()\n",
    "    \n",
    "    # inserisco gli elementi nelle liste ausiliarie\n",
    "    for riga in testo:\n",
    "        lista = riga.replace(\" \", \"\").replace(\"\\n\", \"\").split(\",\")\n",
    "\n",
    "        list_data.append(lista[0])\n",
    "        list_ora_min.append(lista[1])\n",
    "        list_Tmin.append(lista[2])\n",
    "        list_CLmin.append(lista[3])\n",
    "        list_Tmed.append(lista[4])\n",
    "        list_CLmed.append(lista[5])\n",
    "        list_ora_max.append(lista[6])\n",
    "        list_Tmax.append(lista[7])\n",
    "        list_CLmax.append(lista[8])\n",
    "    \n",
    "    # creazione array numpy\n",
    "    arr_data = np.array(list_data)\n",
    "    arr_ora_min = np.array(list_ora_min)\n",
    "    arr_Tmin = np.array(list_Tmin)\n",
    "    arr_CLmin = np.array(list_CLmin)\n",
    "    arr_Tmed = np.array(list_Tmed)\n",
    "    arr_CLmed = np.array(list_CLmed)\n",
    "    arr_ora_max = np.array(list_ora_max)\n",
    "    arr_Tmax = np.array(list_Tmax)\n",
    "    arr_CLmax = np.array(list_CLmax)\n",
    "    \n",
    "    # inserisco nei dizionari gli array\n",
    "    diz[\"data\"] = arr_data\n",
    "    diz[\"ora_minima\"] = arr_ora_min\n",
    "    diz[\"temperatura_minima\"] = arr_Tmin\n",
    "    diz[\"classe_minima\"] = arr_CLmin\n",
    "    diz[\"temperatura_media\"] = arr_Tmed\n",
    "    diz[\"classe_media\"] = arr_CLmed\n",
    "    diz[\"ora_massima\"] = arr_ora_max\n",
    "    diz[\"temperatura_massima\"] = arr_Tmax\n",
    "    diz[\"classe_massima\"] = arr_CLmax"
   ]
  },
  {
   "cell_type": "code",
   "execution_count": 164,
   "id": "27cb0413",
   "metadata": {},
   "outputs": [
    {
     "ename": "ValueError",
     "evalue": "could not convert string to float: ''",
     "output_type": "error",
     "traceback": [
      "\u001b[1;31m---------------------------------------------------------------------------\u001b[0m",
      "\u001b[1;31mValueError\u001b[0m                                Traceback (most recent call last)",
      "\u001b[1;32m<ipython-input-164-03a856a970ec>\u001b[0m in \u001b[0;36m<module>\u001b[1;34m\u001b[0m\n\u001b[0;32m      1\u001b[0m \u001b[0mreader_file_1_3\u001b[0m\u001b[1;33m(\u001b[0m\u001b[1;34m\"richiesta_dati_gg_80749_parte1.csv\"\u001b[0m\u001b[1;33m,\u001b[0m \u001b[0mdiz_p1\u001b[0m\u001b[1;33m)\u001b[0m\u001b[1;33m\u001b[0m\u001b[1;33m\u001b[0m\u001b[0m\n\u001b[1;32m----> 2\u001b[1;33m \u001b[0mreader_file_2_4\u001b[0m\u001b[1;33m(\u001b[0m\u001b[1;34m\"richiesta_dati_gg_80749_parte2.csv\"\u001b[0m\u001b[1;33m,\u001b[0m \u001b[0mdiz_p2\u001b[0m\u001b[1;33m)\u001b[0m\u001b[1;33m\u001b[0m\u001b[1;33m\u001b[0m\u001b[0m\n\u001b[0m\u001b[0;32m      3\u001b[0m \u001b[0mreader_file_1_3\u001b[0m\u001b[1;33m(\u001b[0m\u001b[1;34m\"richiesta_dati_gg_80749_parte3.csv\"\u001b[0m\u001b[1;33m,\u001b[0m \u001b[0mdiz_p3\u001b[0m\u001b[1;33m)\u001b[0m\u001b[1;33m\u001b[0m\u001b[1;33m\u001b[0m\u001b[0m\n\u001b[0;32m      4\u001b[0m \u001b[0mreader_file_2_4\u001b[0m\u001b[1;33m(\u001b[0m\u001b[1;34m\"richiesta_dati_gg_80749_parte4.csv\"\u001b[0m\u001b[1;33m,\u001b[0m \u001b[0mdiz_p4\u001b[0m\u001b[1;33m)\u001b[0m\u001b[1;33m\u001b[0m\u001b[1;33m\u001b[0m\u001b[0m\n",
      "\u001b[1;32m<ipython-input-163-1bd9b366c5c4>\u001b[0m in \u001b[0;36mreader_file_2_4\u001b[1;34m(nome_file, diz)\u001b[0m\n\u001b[0;32m     15\u001b[0m \u001b[1;33m\u001b[0m\u001b[0m\n\u001b[0;32m     16\u001b[0m         \u001b[0mlist_data\u001b[0m\u001b[1;33m.\u001b[0m\u001b[0mappend\u001b[0m\u001b[1;33m(\u001b[0m\u001b[0mlista\u001b[0m\u001b[1;33m[\u001b[0m\u001b[1;36m0\u001b[0m\u001b[1;33m]\u001b[0m\u001b[1;33m)\u001b[0m\u001b[1;33m\u001b[0m\u001b[1;33m\u001b[0m\u001b[0m\n\u001b[1;32m---> 17\u001b[1;33m         \u001b[0mlist_h_suolo\u001b[0m\u001b[1;33m.\u001b[0m\u001b[0mappend\u001b[0m\u001b[1;33m(\u001b[0m\u001b[0mfloat\u001b[0m\u001b[1;33m(\u001b[0m\u001b[0mlista\u001b[0m\u001b[1;33m[\u001b[0m\u001b[1;36m1\u001b[0m\u001b[1;33m]\u001b[0m\u001b[1;33m)\u001b[0m\u001b[1;33m)\u001b[0m\u001b[1;33m\u001b[0m\u001b[1;33m\u001b[0m\u001b[0m\n\u001b[0m\u001b[0;32m     18\u001b[0m         \u001b[0mlist_neve_fresca\u001b[0m\u001b[1;33m.\u001b[0m\u001b[0mappend\u001b[0m\u001b[1;33m(\u001b[0m\u001b[0mfloat\u001b[0m\u001b[1;33m(\u001b[0m\u001b[0mlista\u001b[0m\u001b[1;33m[\u001b[0m\u001b[1;36m2\u001b[0m\u001b[1;33m]\u001b[0m\u001b[1;33m)\u001b[0m\u001b[1;33m)\u001b[0m\u001b[1;33m\u001b[0m\u001b[1;33m\u001b[0m\u001b[0m\n\u001b[0;32m     19\u001b[0m \u001b[1;33m\u001b[0m\u001b[0m\n",
      "\u001b[1;31mValueError\u001b[0m: could not convert string to float: ''"
     ]
    }
   ],
   "source": [
    "reader_file_1_3(\"richiesta_dati_gg_80749_parte1.csv\", diz_p1)\n",
    "reader_file_2_4(\"richiesta_dati_gg_80749_parte2.csv\", diz_p2)\n",
    "reader_file_1_3(\"richiesta_dati_gg_80749_parte3.csv\", diz_p3)\n",
    "reader_file_2_4(\"richiesta_dati_gg_80749_parte4.csv\", diz_p4)"
   ]
  },
  {
   "cell_type": "markdown",
   "id": "f3b36a70",
   "metadata": {},
   "source": [
    "## PUNTO 1\n",
    "n° di giorni totali senza neve al suolo nelle due stazioni."
   ]
  },
  {
   "cell_type": "code",
   "execution_count": 151,
   "id": "51d78b8d",
   "metadata": {},
   "outputs": [],
   "source": [
    "def contagiorni_h_suolo(diz): \n",
    "    return np.count_nonzero(diz[\"h_suolo\"] == \"0\")"
   ]
  },
  {
   "cell_type": "code",
   "execution_count": 152,
   "id": "095d4846",
   "metadata": {},
   "outputs": [
    {
     "name": "stdout",
     "output_type": "stream",
     "text": [
      "Numero giorni NO-neve: diga del chiodas: 723\n",
      "Numero giorni NO-neve: colle dell'agnello: 377\n"
     ]
    }
   ],
   "source": [
    "print(f\"Numero giorni NO-neve: diga del chiodas: {contagiorni_h_suolo(diz_p2)}\")\n",
    "print(f\"Numero giorni NO-neve: colle dell'agnello: {contagiorni_h_suolo(diz_p4)}\")"
   ]
  },
  {
   "cell_type": "markdown",
   "id": "f83cbd5b",
   "metadata": {},
   "source": [
    "## PUNTO 2\n",
    "n° di giorni nell'anno 2020 in cui la media delle temperature medie delle due stazioni è minore o uguale a zero."
   ]
  },
  {
   "cell_type": "code",
   "execution_count": 153,
   "id": "e3877234",
   "metadata": {},
   "outputs": [],
   "source": [
    "def contagiorni_Tmed(diz):\n",
    "    filtro2020 = np.char.endswith(diz[\"data\"], \"2020\") # filtra l'array e ritorna se un elemento termina o meno con 2020\n",
    "    \n",
    "    return diz[\"temperatura_media\"][filtro2020] <= \"0\""
   ]
  },
  {
   "cell_type": "code",
   "execution_count": 154,
   "id": "f86db15c",
   "metadata": {},
   "outputs": [],
   "source": [
    "arr_filtrato_p1 = contagiorni_Tmed(diz_p1)\n",
    "arr_filtrato_p3 = contagiorni_Tmed(diz_p3)\n",
    "\n",
    "media = arr_filtrato_p1 + arr_filtrato_p3 / 2"
   ]
  },
  {
   "cell_type": "code",
   "execution_count": 155,
   "id": "99b02049",
   "metadata": {},
   "outputs": [
    {
     "name": "stdout",
     "output_type": "stream",
     "text": [
      "Numero giorni in cui la media delle temperature medie <= 0: 172\n"
     ]
    }
   ],
   "source": [
    "print(f\"Numero giorni in cui la media delle temperature medie <= 0: {np.count_nonzero(media)}\")"
   ]
  },
  {
   "cell_type": "markdown",
   "id": "8ca3f639",
   "metadata": {},
   "source": [
    "## PUNTO 3\n",
    "n° di giorni nell'anno 2019 in cui c'è neve al suolo e la temperatura media è maggiore di 0°C per entrambe le stazioni."
   ]
  },
  {
   "cell_type": "code",
   "execution_count": 161,
   "id": "96ef5a9e",
   "metadata": {},
   "outputs": [],
   "source": [
    "def contagiorni_h_suolo_Tmed(diz1, diz2):\n",
    "    lista = []\n",
    "    Tmed = []\n",
    "    neve = []\n",
    "    \n",
    "    filtro2019 = np.char.endswith(diz1[\"data\"], \"2019\")    \n",
    "    \n",
    "    for data in diz1[\"data\"]:\n",
    "        if data in diz2[\"data\"] and \"2019\" in data:\n",
    "            lista.append(data)\n",
    "\n",
    "    for elemento in lista:\n",
    "        indice = np.where(diz1[\"data\"] == elemento)[0][0]     \n",
    "        Tmed.append(diz1[\"temperatura_media\"][indice])\n",
    "        \n",
    "        indice = np.where(diz2[\"data\"] == elemento)[0][0]   \n",
    "        neve.append(diz2[\"h_suolo\"][indice])\n",
    "        \n",
    "    Tmed = np.array(Tmed)\n",
    "    neve = np.array(neve)\n",
    "    \n",
    "    return np.count_nonzero(np.logical_and(Tmed > \"0\", neve > \"0\"))"
   ]
  },
  {
   "cell_type": "code",
   "execution_count": 162,
   "id": "b5ba949d",
   "metadata": {
    "scrolled": true
   },
   "outputs": [
    {
     "name": "stdout",
     "output_type": "stream",
     "text": [
      "Ngiorni con Tmed > 0 and h_suolo > 0: diga del chiodas: 90\n",
      "Ngiorni con Tmed > 0 and h_suolo > 0: colle dell'agnello: 80\n"
     ]
    }
   ],
   "source": [
    "print(f\"Ngiorni con Tmed > 0 and h_suolo > 0: diga del chiodas: {contagiorni_h_suolo_Tmed(diz_p3, diz_p2)}\")\n",
    "print(f\"Ngiorni con Tmed > 0 and h_suolo > 0: colle dell'agnello: {contagiorni_h_suolo_Tmed(diz_p1, diz_p4)}\")"
   ]
  },
  {
   "cell_type": "code",
   "execution_count": null,
   "id": "53120753",
   "metadata": {},
   "outputs": [],
   "source": []
  }
 ],
 "metadata": {
  "kernelspec": {
   "display_name": "Python 3",
   "language": "python",
   "name": "python3"
  },
  "language_info": {
   "codemirror_mode": {
    "name": "ipython",
    "version": 3
   },
   "file_extension": ".py",
   "mimetype": "text/x-python",
   "name": "python",
   "nbconvert_exporter": "python",
   "pygments_lexer": "ipython3",
   "version": "3.8.8"
  }
 },
 "nbformat": 4,
 "nbformat_minor": 5
}
