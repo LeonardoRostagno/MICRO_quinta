{
 "cells": [
  {
   "cell_type": "code",
   "execution_count": 110,
   "id": "ec933bd6",
   "metadata": {},
   "outputs": [],
   "source": [
    "import numpy as np"
   ]
  },
  {
   "cell_type": "markdown",
   "id": "e71b7b7a",
   "metadata": {},
   "source": [
    "# METODO MOLTO PYTHON"
   ]
  },
  {
   "cell_type": "code",
   "execution_count": 87,
   "id": "c9e8b16c",
   "metadata": {},
   "outputs": [],
   "source": [
    "diz_p1 = {} # temp - colle dell'agnello\n",
    "diz_p2 = {} # neve - diga del chiodas\n",
    "diz_p3 = {} # temp - dige del chiotas\n",
    "diz_p4 = {} # neve - colle dell'agnello"
   ]
  },
  {
   "cell_type": "code",
   "execution_count": 88,
   "id": "0de62f73",
   "metadata": {},
   "outputs": [],
   "source": [
    "# elenco liste --> nome # file usato\n",
    "list_data = [] # neve, temp\n",
    "list_neve_suolo = [] # neve\n",
    "list_neve_fresca = [] # neve\n",
    "list_ora_min = [] # temp\n",
    "list_ora_max = [] # temp\n",
    "list_Tmin = [] # temp\n",
    "list_Tmax = [] # temp\n",
    "list_Tmed = [] # temp\n",
    "list_CLmin = [] # temp\n",
    "list_CLmax = [] # temp\n",
    "list_CLmed = [] # temp"
   ]
  },
  {
   "cell_type": "code",
   "execution_count": 103,
   "id": "92451c45",
   "metadata": {},
   "outputs": [],
   "source": [
    "def poplist(lista):\n",
    "    for a in lista:\n",
    "        lista.remove(a)"
   ]
  },
  {
   "cell_type": "markdown",
   "id": "2e035c26",
   "metadata": {},
   "source": [
    "### FILE 1"
   ]
  },
  {
   "cell_type": "code",
   "execution_count": 120,
   "id": "5f7192af",
   "metadata": {},
   "outputs": [
    {
     "ename": "AttributeError",
     "evalue": "'numpy.ndarray' object has no attribute 'append'",
     "output_type": "error",
     "traceback": [
      "\u001b[1;31m---------------------------------------------------------------------------\u001b[0m",
      "\u001b[1;31mAttributeError\u001b[0m                            Traceback (most recent call last)",
      "\u001b[1;32m<ipython-input-120-6553a142a0a9>\u001b[0m in \u001b[0;36m<module>\u001b[1;34m\u001b[0m\n\u001b[0;32m      4\u001b[0m     \u001b[0mlist_r1\u001b[0m \u001b[1;33m=\u001b[0m \u001b[0mr1\u001b[0m\u001b[1;33m.\u001b[0m\u001b[0mreplace\u001b[0m\u001b[1;33m(\u001b[0m\u001b[1;34m\" \"\u001b[0m\u001b[1;33m,\u001b[0m \u001b[1;34m\"\"\u001b[0m\u001b[1;33m)\u001b[0m\u001b[1;33m.\u001b[0m\u001b[0mreplace\u001b[0m\u001b[1;33m(\u001b[0m\u001b[1;34m\"\\n\"\u001b[0m\u001b[1;33m,\u001b[0m \u001b[1;34m\"\"\u001b[0m\u001b[1;33m)\u001b[0m\u001b[1;33m.\u001b[0m\u001b[0msplit\u001b[0m\u001b[1;33m(\u001b[0m\u001b[1;34m\",\"\u001b[0m\u001b[1;33m)\u001b[0m\u001b[1;33m\u001b[0m\u001b[1;33m\u001b[0m\u001b[0m\n\u001b[0;32m      5\u001b[0m \u001b[1;33m\u001b[0m\u001b[0m\n\u001b[1;32m----> 6\u001b[1;33m     \u001b[0mlist_data\u001b[0m\u001b[1;33m.\u001b[0m\u001b[0mappend\u001b[0m\u001b[1;33m(\u001b[0m\u001b[0mlist_r1\u001b[0m\u001b[1;33m[\u001b[0m\u001b[1;36m0\u001b[0m\u001b[1;33m]\u001b[0m\u001b[1;33m)\u001b[0m\u001b[1;33m\u001b[0m\u001b[1;33m\u001b[0m\u001b[0m\n\u001b[0m\u001b[0;32m      7\u001b[0m     \u001b[0mlist_ora_min\u001b[0m\u001b[1;33m.\u001b[0m\u001b[0mappend\u001b[0m\u001b[1;33m(\u001b[0m\u001b[0mlist_r1\u001b[0m\u001b[1;33m[\u001b[0m\u001b[1;36m1\u001b[0m\u001b[1;33m]\u001b[0m\u001b[1;33m)\u001b[0m\u001b[1;33m\u001b[0m\u001b[1;33m\u001b[0m\u001b[0m\n\u001b[0;32m      8\u001b[0m     \u001b[0mlist_Tmin\u001b[0m\u001b[1;33m.\u001b[0m\u001b[0mappend\u001b[0m\u001b[1;33m(\u001b[0m\u001b[0mlist_r1\u001b[0m\u001b[1;33m[\u001b[0m\u001b[1;36m2\u001b[0m\u001b[1;33m]\u001b[0m\u001b[1;33m)\u001b[0m\u001b[1;33m\u001b[0m\u001b[1;33m\u001b[0m\u001b[0m\n",
      "\u001b[1;31mAttributeError\u001b[0m: 'numpy.ndarray' object has no attribute 'append'"
     ]
    }
   ],
   "source": [
    "file = open(\"richiesta_dati_gg_80749_parte1.csv\", \"r\") # file temp - colle dell'agnello\n",
    "\n",
    "for r1 in file.readlines()[10:][:-1]: # dalla riga 10 in poi\n",
    "    list_r1 = r1.replace(\" \", \"\").replace(\"\\n\", \"\").split(\",\")\n",
    "    \n",
    "    list_data.append(list_r1[0])\n",
    "    list_ora_min.append(list_r1[1])\n",
    "    list_Tmin.append(list_r1[2])\n",
    "    list_CLmin.append(list_r1[3])\n",
    "    list_Tmed.append(list_r1[4])\n",
    "    list_CLmed.append(list_r1[5])\n",
    "    list_ora_max.append(list_r1[6])\n",
    "    list_Tmax.append(list_r1[7])\n",
    "    list_CLmax.append(list_r1[8])"
   ]
  },
  {
   "cell_type": "code",
   "execution_count": 117,
   "id": "9065ba3d",
   "metadata": {},
   "outputs": [],
   "source": [
    "list_data1 = np.array(list_data)\n",
    "list_ora_min1 = np.array(list_ora_min)\n",
    "list_Tmin1 = np.array(list_Tmin)\n",
    "list_CLmin1 = np.array(list_CLmin)\n",
    "list_Tmed1 = np.array(list_Tmed)\n",
    "list_CLmed1 = np.array(list_CLmed)\n",
    "list_ora_max1 = np.array(list_ora_max)\n",
    "list_Tmax1 = np.array(list_Tmax)\n",
    "list_CLmax1 = np.array(list_CLmax)"
   ]
  },
  {
   "cell_type": "code",
   "execution_count": 116,
   "id": "303bdfe7",
   "metadata": {},
   "outputs": [],
   "source": [
    "diz_p1[\"data\"] = list_data1\n",
    "diz_p1[\"ora_minima\"] = list_ora_min1\n",
    "diz_p1[\"temperatura_minima\"] = list_Tmin1\n",
    "diz_p1[\"classe_minima\"] = list_CLmin1\n",
    "diz_p1[\"temperatura_media\"] = list_Tmed1\n",
    "diz_p1[\"classe_media\"] = list_CLmed1\n",
    "diz_p1[\"ora_massima\"] = list_ora_max1\n",
    "diz_p1[\"temperatura_massima\"] = list_Tmax1\n",
    "diz_p1[\"classe_massima\"] = list_CLmax1"
   ]
  },
  {
   "cell_type": "code",
   "execution_count": null,
   "id": "ac1efb8c",
   "metadata": {},
   "outputs": [],
   "source": [
    "file.close()"
   ]
  },
  {
   "cell_type": "code",
   "execution_count": 104,
   "id": "fee28856",
   "metadata": {},
   "outputs": [],
   "source": [
    "# resetto tutte le liste usate precedentemente\n",
    "poplist(list_data)\n",
    "poplist(list_ora_min)\n",
    "poplist(list_Tmin)\n",
    "poplist(list_CLmin)\n",
    "poplist(list_Tmed)\n",
    "poplist(list_CLmed)\n",
    "poplist(list_ora_max)\n",
    "poplist(list_Tmax)\n",
    "poplist(list_CLmax)"
   ]
  },
  {
   "cell_type": "markdown",
   "id": "809eda5b",
   "metadata": {},
   "source": [
    "### FILE 2"
   ]
  },
  {
   "cell_type": "code",
   "execution_count": 118,
   "id": "5605e748",
   "metadata": {},
   "outputs": [
    {
     "ename": "AttributeError",
     "evalue": "'numpy.ndarray' object has no attribute 'append'",
     "output_type": "error",
     "traceback": [
      "\u001b[1;31m---------------------------------------------------------------------------\u001b[0m",
      "\u001b[1;31mAttributeError\u001b[0m                            Traceback (most recent call last)",
      "\u001b[1;32m<ipython-input-118-b9b7de33c244>\u001b[0m in \u001b[0;36m<module>\u001b[1;34m\u001b[0m\n\u001b[0;32m      4\u001b[0m     \u001b[0mlist_r2\u001b[0m \u001b[1;33m=\u001b[0m \u001b[0mr2\u001b[0m\u001b[1;33m.\u001b[0m\u001b[0mreplace\u001b[0m\u001b[1;33m(\u001b[0m\u001b[1;34m\" \"\u001b[0m\u001b[1;33m,\u001b[0m \u001b[1;34m\"\"\u001b[0m\u001b[1;33m)\u001b[0m\u001b[1;33m.\u001b[0m\u001b[0mreplace\u001b[0m\u001b[1;33m(\u001b[0m\u001b[1;34m\"\\n\"\u001b[0m\u001b[1;33m,\u001b[0m \u001b[1;34m\"\"\u001b[0m\u001b[1;33m)\u001b[0m\u001b[1;33m.\u001b[0m\u001b[0msplit\u001b[0m\u001b[1;33m(\u001b[0m\u001b[1;34m\",\"\u001b[0m\u001b[1;33m)\u001b[0m\u001b[1;33m\u001b[0m\u001b[1;33m\u001b[0m\u001b[0m\n\u001b[0;32m      5\u001b[0m \u001b[1;33m\u001b[0m\u001b[0m\n\u001b[1;32m----> 6\u001b[1;33m     \u001b[0mlist_data\u001b[0m\u001b[1;33m.\u001b[0m\u001b[0mappend\u001b[0m\u001b[1;33m(\u001b[0m\u001b[0mlist_r2\u001b[0m\u001b[1;33m[\u001b[0m\u001b[1;36m0\u001b[0m\u001b[1;33m]\u001b[0m\u001b[1;33m)\u001b[0m\u001b[1;33m\u001b[0m\u001b[1;33m\u001b[0m\u001b[0m\n\u001b[0m\u001b[0;32m      7\u001b[0m     \u001b[0mlist_neve_suolo\u001b[0m\u001b[1;33m.\u001b[0m\u001b[0mappend\u001b[0m\u001b[1;33m(\u001b[0m\u001b[0mlist_r2\u001b[0m\u001b[1;33m[\u001b[0m\u001b[1;36m1\u001b[0m\u001b[1;33m]\u001b[0m\u001b[1;33m)\u001b[0m\u001b[1;33m\u001b[0m\u001b[1;33m\u001b[0m\u001b[0m\n\u001b[0;32m      8\u001b[0m     \u001b[0mlist_neve_fresca\u001b[0m\u001b[1;33m.\u001b[0m\u001b[0mappend\u001b[0m\u001b[1;33m(\u001b[0m\u001b[0mlist_r2\u001b[0m\u001b[1;33m[\u001b[0m\u001b[1;36m2\u001b[0m\u001b[1;33m]\u001b[0m\u001b[1;33m)\u001b[0m\u001b[1;33m\u001b[0m\u001b[1;33m\u001b[0m\u001b[0m\n",
      "\u001b[1;31mAttributeError\u001b[0m: 'numpy.ndarray' object has no attribute 'append'"
     ]
    }
   ],
   "source": [
    "file = open(\"richiesta_dati_gg_80749_parte2.csv\", \"r\") # file neve - diga del chiodas\n",
    "\n",
    "for r2 in file.readlines()[10:][:-1]: # dalla riga 10 in poi\n",
    "    list_r2 = r2.replace(\" \", \"\").replace(\"\\n\", \"\").split(\",\")\n",
    "    \n",
    "    list_data.append(list_r2[0])\n",
    "    list_neve_suolo.append(list_r2[1])\n",
    "    list_neve_fresca.append(list_r2[2])"
   ]
  },
  {
   "cell_type": "code",
   "execution_count": null,
   "id": "d9ca57ef",
   "metadata": {},
   "outputs": [],
   "source": []
  },
  {
   "cell_type": "code",
   "execution_count": null,
   "id": "cfb95bfa",
   "metadata": {},
   "outputs": [],
   "source": [
    "diz_p2[\"data\"] = list_data\n",
    "diz_p2[\"neve_suolo\"] = list_neve_suolo\n",
    "diz_p2[\"neve_fresca\"] = list_neve_fresca"
   ]
  },
  {
   "cell_type": "code",
   "execution_count": null,
   "id": "3eedf722",
   "metadata": {},
   "outputs": [],
   "source": [
    "file.close()"
   ]
  },
  {
   "cell_type": "code",
   "execution_count": 105,
   "id": "37d1bb3f",
   "metadata": {},
   "outputs": [],
   "source": [
    "# resetto tutte le liste usate precedentemente\n",
    "poplist(list_data)\n",
    "poplist(list_neve_suolo)\n",
    "poplist(list_neve_fresca)"
   ]
  },
  {
   "cell_type": "markdown",
   "id": "18e704b2",
   "metadata": {},
   "source": [
    "### FILE 3"
   ]
  },
  {
   "cell_type": "code",
   "execution_count": 107,
   "id": "70841bd1",
   "metadata": {},
   "outputs": [],
   "source": [
    "file = open(\"richiesta_dati_gg_80749_parte3.csv\", \"r\") # file temp - colle dell'agnello\n",
    "\n",
    "for r3 in file.readlines()[10:][:-1]: # dalla riga 10 in poi\n",
    "    list_r3 = r3.replace(\" \", \"\").replace(\"\\n\", \"\").split(\",\")\n",
    "    \n",
    "    list_data.append(list_r3[0])\n",
    "    list_ora_min.append(list_r3[1])\n",
    "    list_Tmin.append(list_r3[2])\n",
    "    list_CLmin.append(list_r3[3])\n",
    "    list_Tmed.append(list_r3[4])\n",
    "    list_CLmed.append(list_r3[5])\n",
    "    list_ora_max.append(list_r3[6])\n",
    "    list_Tmax.append(list_r3[7])\n",
    "    list_CLmax.append(list_r3[8])\n",
    "\n",
    "diz_p3[\"data\"] = list_data\n",
    "diz_p3[\"ora_minima\"] = list_ora_min\n",
    "diz_p3[\"temperatura_minima\"] = list_Tmin\n",
    "diz_p3[\"classe_minima\"] = list_CLmin\n",
    "diz_p3[\"temperatura_media\"] = list_Tmed\n",
    "diz_p3[\"classe_media\"] = list_CLmed\n",
    "diz_p3[\"ora_massima\"] = list_ora_max\n",
    "diz_p3[\"temperatura_massima\"] = list_Tmax\n",
    "diz_p3[\"classe_massima\"] = list_CLmax\n",
    "\n",
    "file.close()"
   ]
  },
  {
   "cell_type": "code",
   "execution_count": 108,
   "id": "f629a65c",
   "metadata": {},
   "outputs": [],
   "source": [
    "# resetto tutte le liste usate precedentemente\n",
    "poplist(list_data)\n",
    "poplist(list_ora_min)\n",
    "poplist(list_Tmin)\n",
    "poplist(list_CLmin)\n",
    "poplist(list_Tmed)\n",
    "poplist(list_CLmed)\n",
    "poplist(list_ora_max)\n",
    "poplist(list_Tmax)\n",
    "poplist(list_CLmax)"
   ]
  },
  {
   "cell_type": "markdown",
   "id": "18e996d5",
   "metadata": {},
   "source": [
    "### FILE 4"
   ]
  },
  {
   "cell_type": "code",
   "execution_count": 94,
   "id": "d925159d",
   "metadata": {},
   "outputs": [],
   "source": [
    "file = open(\"richiesta_dati_gg_80749_parte4.csv\", \"r\") # file neve - colle dell'agnello\n",
    "\n",
    "for r4 in file.readlines()[10:][:-1]: # dalla riga 10 in poi\n",
    "    list_r4 = r4.replace(\" \", \"\").replace(\"\\n\", \"\").split(\",\")\n",
    "    \n",
    "    list_data.append(list_r4[0])\n",
    "    list_neve_suolo.append(list_r4[1])\n",
    "    list_neve_fresca.append(list_r4[2])\n",
    "\n",
    "diz_p4[\"data\"] = list_data\n",
    "diz_p4[\"neve_suolo\"] = list_neve_suolo\n",
    "diz_p4[\"neve_fresca\"] = list_neve_fresca\n",
    "\n",
    "file.close()"
   ]
  },
  {
   "cell_type": "code",
   "execution_count": 109,
   "id": "ae19c4c3",
   "metadata": {},
   "outputs": [],
   "source": [
    "# resetto tutte le liste usate precedentemente\n",
    "poplist(list_data)\n",
    "poplist(list_neve_suolo)\n",
    "poplist(list_neve_fresca)"
   ]
  },
  {
   "cell_type": "markdown",
   "id": "670c0da5",
   "metadata": {},
   "source": [
    "+"
   ]
  },
  {
   "cell_type": "code",
   "execution_count": 111,
   "id": "a662885d",
   "metadata": {},
   "outputs": [],
   "source": [
    "n_day2 = 0\n",
    "n_day4 = 0"
   ]
  },
  {
   "cell_type": "code",
   "execution_count": 112,
   "id": "6c74198f",
   "metadata": {},
   "outputs": [],
   "source": [
    "for elem2 in diz_p2:\n",
    "    if elem2 == \"\":\n",
    "        continue\n",
    "        \n",
    "    if diz_p2[\"neve_suolo\"] == 0:\n",
    "        n_day2 += 1        "
   ]
  },
  {
   "cell_type": "code",
   "execution_count": 115,
   "id": "f0f41e4c",
   "metadata": {},
   "outputs": [
    {
     "name": "stdout",
     "output_type": "stream",
     "text": [
      "data\n",
      "neve_suolo\n",
      "neve_fresca\n"
     ]
    }
   ],
   "source": [
    "for elem4 in diz_p4:\n",
    "    if elem4 == \"\":\n",
    "        continue\n",
    "    print(elem4)\n",
    "        \n",
    "    if diz_p4[\"neve_suolo\"] == 0:\n",
    "        n_day4 += 1   "
   ]
  },
  {
   "cell_type": "code",
   "execution_count": 114,
   "id": "67bfd9a3",
   "metadata": {},
   "outputs": [
    {
     "name": "stdout",
     "output_type": "stream",
     "text": [
      "Ngiorni senza neve = 0\n"
     ]
    }
   ],
   "source": [
    "print(f\"Ngiorni senza neve = {n_day2 + n_day4}\")"
   ]
  }
 ],
 "metadata": {
  "kernelspec": {
   "display_name": "Python 3",
   "language": "python",
   "name": "python3"
  },
  "language_info": {
   "codemirror_mode": {
    "name": "ipython",
    "version": 3
   },
   "file_extension": ".py",
   "mimetype": "text/x-python",
   "name": "python",
   "nbconvert_exporter": "python",
   "pygments_lexer": "ipython3",
   "version": "3.8.8"
  }
 },
 "nbformat": 4,
 "nbformat_minor": 5
}
