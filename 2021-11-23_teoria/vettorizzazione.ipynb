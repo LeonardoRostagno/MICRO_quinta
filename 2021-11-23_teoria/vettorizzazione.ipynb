{
 "cells": [
  {
   "cell_type": "code",
   "execution_count": 12,
   "id": "ed381778",
   "metadata": {},
   "outputs": [],
   "source": [
    "import numpy as np"
   ]
  },
  {
   "cell_type": "code",
   "execution_count": 13,
   "id": "1307ce44",
   "metadata": {},
   "outputs": [],
   "source": [
    "# funzione dei numeri primi\n",
    "def isprime(n): \n",
    "    for a in range(2, int(np.sqrt(n)) + 1):\n",
    "        if n%a == 0:\n",
    "            return False\n",
    "    return True"
   ]
  },
  {
   "cell_type": "code",
   "execution_count": 14,
   "id": "9fd0471c",
   "metadata": {},
   "outputs": [
    {
     "data": {
      "text/plain": [
       "False"
      ]
     },
     "execution_count": 14,
     "metadata": {},
     "output_type": "execute_result"
    }
   ],
   "source": [
    "isprime(24)"
   ]
  },
  {
   "cell_type": "code",
   "execution_count": 10,
   "id": "00381ea7",
   "metadata": {},
   "outputs": [],
   "source": [
    "a = np.array([1, 2, 3, 4])\n",
    "b = np.array([2, 2, 2, 2])"
   ]
  },
  {
   "cell_type": "code",
   "execution_count": 11,
   "id": "52b4f82a",
   "metadata": {},
   "outputs": [
    {
     "name": "stdout",
     "output_type": "stream",
     "text": [
      "[3 4 5 6]\n",
      "[2 4 6 8]\n",
      "[ 1  4  9 16]\n"
     ]
    }
   ],
   "source": [
    "# tutte le operazioni matematiche agiscono sui singoli elemnti negli array, elemtento per elemento\n",
    "print(a + b) # somma elemento per elemento\n",
    "print(a * b) # moltiplica elemento per elemento\n",
    "print(a**2) # eleva al quadrato ogni valore di a"
   ]
  },
  {
   "cell_type": "code",
   "execution_count": 16,
   "id": "bd71b45f",
   "metadata": {},
   "outputs": [
    {
     "data": {
      "text/plain": [
       "array([ 2,  3,  4,  5,  6,  7,  8,  9, 10, 11, 12, 13, 14, 15, 16, 17, 18,\n",
       "       19, 20, 21, 22, 23, 24, 25, 26, 27, 28, 29])"
      ]
     },
     "execution_count": 16,
     "metadata": {},
     "output_type": "execute_result"
    }
   ],
   "source": [
    "c = np.arange(2, 30)\n",
    "c"
   ]
  },
  {
   "cell_type": "code",
   "execution_count": 21,
   "id": "4fd017ef",
   "metadata": {},
   "outputs": [],
   "source": [
    "isprime_v = np.vectorize(isprime)"
   ]
  },
  {
   "cell_type": "code",
   "execution_count": 22,
   "id": "e1d8a027",
   "metadata": {
    "scrolled": true
   },
   "outputs": [
    {
     "name": "stdout",
     "output_type": "stream",
     "text": [
      "[ True  True False  True False  True False False False  True False  True\n",
      " False False False  True False  True False False False  True False False\n",
      " False False False  True]\n"
     ]
    },
    {
     "data": {
      "text/plain": [
       "array([ 2,  3,  5,  7, 11, 13, 17, 19, 23, 29])"
      ]
     },
     "execution_count": 22,
     "metadata": {},
     "output_type": "execute_result"
    }
   ],
   "source": [
    "print(isprime_v(c))\n",
    "\n",
    "c[isprime_v(c)] # stampa i numeri primi dell'array c"
   ]
  },
  {
   "cell_type": "code",
   "execution_count": 23,
   "id": "009f6390",
   "metadata": {},
   "outputs": [
    {
     "data": {
      "text/plain": [
       "3.141592653589793"
      ]
     },
     "execution_count": 23,
     "metadata": {},
     "output_type": "execute_result"
    }
   ],
   "source": [
    "np.pi # pigreco"
   ]
  },
  {
   "cell_type": "code",
   "execution_count": null,
   "id": "42a0ccb1",
   "metadata": {},
   "outputs": [],
   "source": []
  },
  {
   "cell_type": "code",
   "execution_count": 5,
   "id": "23ff2c11",
   "metadata": {},
   "outputs": [
    {
     "data": {
      "text/plain": [
       "array([1, 2, 3, 4, 2, 2, 2, 2])"
      ]
     },
     "execution_count": 5,
     "metadata": {},
     "output_type": "execute_result"
    }
   ],
   "source": [
    "np.concatenate((a, b)) # concatena i 2 array che gli vengono passati come tupla"
   ]
  }
 ],
 "metadata": {
  "kernelspec": {
   "display_name": "Python 3",
   "language": "python",
   "name": "python3"
  },
  "language_info": {
   "codemirror_mode": {
    "name": "ipython",
    "version": 3
   },
   "file_extension": ".py",
   "mimetype": "text/x-python",
   "name": "python",
   "nbconvert_exporter": "python",
   "pygments_lexer": "ipython3",
   "version": "3.8.8"
  }
 },
 "nbformat": 4,
 "nbformat_minor": 5
}
