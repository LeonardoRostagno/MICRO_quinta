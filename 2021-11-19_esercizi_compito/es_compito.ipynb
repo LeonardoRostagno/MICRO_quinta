{
 "cells": [
  {
   "cell_type": "code",
   "execution_count": 3,
   "id": "fcf4ac23",
   "metadata": {},
   "outputs": [],
   "source": [
    "import numpy as np"
   ]
  },
  {
   "cell_type": "markdown",
   "id": "6f9b41be",
   "metadata": {},
   "source": [
    "ESERCIZIO 1"
   ]
  },
  {
   "cell_type": "code",
   "execution_count": 24,
   "id": "0ec15fd2",
   "metadata": {},
   "outputs": [],
   "source": [
    "mat_bin = np.zeros(shape = (8, 8))"
   ]
  },
  {
   "cell_type": "code",
   "execution_count": 26,
   "id": "8309f9d5",
   "metadata": {},
   "outputs": [
    {
     "name": "stdout",
     "output_type": "stream",
     "text": [
      "[[0. 1. 0. 1. 0. 1. 0. 1.]\n",
      " [1. 0. 1. 0. 1. 0. 1. 0.]\n",
      " [0. 1. 0. 1. 0. 1. 0. 1.]\n",
      " [1. 0. 1. 0. 1. 0. 1. 0.]\n",
      " [0. 1. 0. 1. 0. 1. 0. 1.]\n",
      " [1. 0. 1. 0. 1. 0. 1. 0.]\n",
      " [0. 1. 0. 1. 0. 1. 0. 1.]\n",
      " [1. 0. 1. 0. 1. 0. 1. 0.]]\n"
     ]
    }
   ],
   "source": [
    "for r in range(8):\n",
    "    for c in range(8):\n",
    "        if r%2 == 0:\n",
    "            if c%2 == 1:\n",
    "                mat_bin[r][c] = 1\n",
    "            else:\n",
    "                mat_bin[r][c] = 0\n",
    "        else :\n",
    "            if c%2 == 0:\n",
    "                mat_bin[r][c] = 1\n",
    "            else:\n",
    "                mat_bin[r][c] = 0\n",
    "print(mat_bin)"
   ]
  },
  {
   "cell_type": "markdown",
   "id": "54f6d8aa",
   "metadata": {},
   "source": [
    "ESERCIZIO 2"
   ]
  },
  {
   "cell_type": "code",
   "execution_count": 27,
   "id": "cd8e1d32",
   "metadata": {},
   "outputs": [],
   "source": [
    "Z = [1, 2, 3, 4, 5, 6, 7, 8, 9, 10, 11, 12, 13, 14]\n",
    "L = []"
   ]
  },
  {
   "cell_type": "code",
   "execution_count": 28,
   "id": "2b989dd9",
   "metadata": {},
   "outputs": [
    {
     "name": "stdout",
     "output_type": "stream",
     "text": [
      "[[ 1  2  3  4]\n",
      " [ 2  3  4  5]\n",
      " [ 3  4  5  6]\n",
      " [ 4  5  6  7]\n",
      " [ 5  6  7  8]\n",
      " [ 6  7  8  9]\n",
      " [ 7  8  9 10]\n",
      " [ 8  9 10 11]\n",
      " [ 9 10 11 12]\n",
      " [10 11 12 13]\n",
      " [11 12 13 14]]\n"
     ]
    }
   ],
   "source": [
    "for a in range(len(Z)-3):\n",
    "    L.append((Z[a], Z[a+1], Z[a+2], Z[a+3]))\n",
    "\n",
    "R = np.array(L, np.uint8)\n",
    "\n",
    "print(R)"
   ]
  },
  {
   "cell_type": "markdown",
   "id": "7d2fc837",
   "metadata": {},
   "source": [
    "ESERCIZIO 3"
   ]
  },
  {
   "cell_type": "code",
   "execution_count": 71,
   "id": "8982638c",
   "metadata": {
    "scrolled": true
   },
   "outputs": [
    {
     "name": "stdout",
     "output_type": "stream",
     "text": [
      "Inserire il numero di compagni: 3\n"
     ]
    }
   ],
   "source": [
    "n_classe = int(input(\"Inserire il numero di compagni: \"))"
   ]
  },
  {
   "cell_type": "code",
   "execution_count": 72,
   "id": "0c8836fa",
   "metadata": {
    "scrolled": true
   },
   "outputs": [],
   "source": [
    "minimo = float(np.random.randint(140, 150))\n",
    "massimo = float(np.random.randint(190, 200))\n",
    "\n",
    "scala = 10 # variazione di valori\n",
    "centro = float(np.random.randint(minimo, massimo))"
   ]
  },
  {
   "cell_type": "code",
   "execution_count": 73,
   "id": "eb14403f",
   "metadata": {},
   "outputs": [
    {
     "data": {
      "text/plain": [
       "array([178.27482792, 153.36123181, 160.66515993])"
      ]
     },
     "execution_count": 73,
     "metadata": {},
     "output_type": "execute_result"
    }
   ],
   "source": [
    "classe = np.random.normal(centro, scala, n_classe)\n",
    "\n",
    "classe"
   ]
  },
  {
   "cell_type": "markdown",
   "id": "67a2d7e9",
   "metadata": {},
   "source": [
    "ESERCIZIO 4"
   ]
  },
  {
   "cell_type": "code",
   "execution_count": 54,
   "id": "b8e22cc7",
   "metadata": {},
   "outputs": [],
   "source": [
    "mat_cen = np.random.randint(0, 1, size = (10, 10))\n",
    "\n",
    "lung_arr = len(mat_cen)\n",
    "range_for = int(lung_arr / 2)\n",
    "\n",
    "mat_min = 0\n",
    "mat_max = lung_arr - 1"
   ]
  },
  {
   "cell_type": "code",
   "execution_count": 55,
   "id": "12e7726c",
   "metadata": {},
   "outputs": [
    {
     "name": "stdout",
     "output_type": "stream",
     "text": [
      "[[1 1 1 1 1 1 1 1 1 1]\n",
      " [1 2 2 2 2 2 2 2 2 1]\n",
      " [1 2 3 3 3 3 3 3 2 1]\n",
      " [1 2 3 4 4 4 4 3 2 1]\n",
      " [1 2 3 4 5 5 4 3 2 1]\n",
      " [1 2 3 4 5 5 4 3 2 1]\n",
      " [1 2 3 4 4 4 4 3 2 1]\n",
      " [1 2 3 3 3 3 3 3 2 1]\n",
      " [1 2 2 2 2 2 2 2 2 1]\n",
      " [1 1 1 1 1 1 1 1 1 1]]\n"
     ]
    }
   ],
   "source": [
    "for a in range(range_for + 1):\n",
    "    mat_cen[mat_min, mat_min : mat_max] = a + 1 # alto\n",
    "    mat_cen[mat_max, mat_min : mat_max] = a + 1 # basso\n",
    "    mat_cen[mat_min : mat_max, mat_min] = a + 1 # sinistra\n",
    "    mat_cen[mat_min : mat_max, mat_max] = a + 1 # destra\n",
    "    \n",
    "    if a > 0: \n",
    "        mat_cen[-a, -a] = a\n",
    "    \n",
    "    mat_min += 1\n",
    "    mat_max -= 1\n",
    "\n",
    "print(mat_cen)"
   ]
  },
  {
   "cell_type": "code",
   "execution_count": 56,
   "id": "72a5868d",
   "metadata": {},
   "outputs": [
    {
     "data": {
      "text/plain": [
       "'\\nAltro modo del 4:\\nmat_cen[0, :] = 1\\nmat_cen[9, :] = 1\\nmat_cen[:, 0] = 1\\nmat_cen[:, 9] = 1\\n\\nmat_cen[1, 1:8] = 2\\nmat_cen[8, 1:8] = 2\\nmat_cen[1:8, 1] = 2\\nmat_cen[1:8, 8] = 2\\n\\nmat_cen[2, 2:7] = 3\\nmat_cen[7, 2:7] = 3\\nmat_cen[2:7, 2] = 3\\nmat_cen[2:7, 7] = 3\\n\\nmat_cen[3, 3:6] = 4\\nmat_cen[6, 3:6] = 4\\nmat_cen[3:6, 3] = 4\\nmat_cen[3:6, 6] = 4\\n\\nmat_cen[4, 4:5] = 5\\nmat_cen[5, 4:5] = 5\\nmat_cen[4:5, 4] = 5\\nmat_cen[4:5, 5] = 5\\n'"
      ]
     },
     "execution_count": 56,
     "metadata": {},
     "output_type": "execute_result"
    }
   ],
   "source": [
    "\"\"\"\n",
    "Altro modo del 4:\n",
    "mat_cen[0, :] = 1\n",
    "mat_cen[9, :] = 1\n",
    "mat_cen[:, 0] = 1\n",
    "mat_cen[:, 9] = 1\n",
    "\n",
    "mat_cen[1, 1:8] = 2\n",
    "mat_cen[8, 1:8] = 2\n",
    "mat_cen[1:8, 1] = 2\n",
    "mat_cen[1:8, 8] = 2\n",
    "\n",
    "mat_cen[2, 2:7] = 3\n",
    "mat_cen[7, 2:7] = 3\n",
    "mat_cen[2:7, 2] = 3\n",
    "mat_cen[2:7, 7] = 3\n",
    "\n",
    "mat_cen[3, 3:6] = 4\n",
    "mat_cen[6, 3:6] = 4\n",
    "mat_cen[3:6, 3] = 4\n",
    "mat_cen[3:6, 6] = 4\n",
    "\n",
    "mat_cen[4, 4:5] = 5\n",
    "mat_cen[5, 4:5] = 5\n",
    "mat_cen[4:5, 4] = 5\n",
    "mat_cen[4:5, 5] = 5\n",
    "\"\"\""
   ]
  }
 ],
 "metadata": {
  "kernelspec": {
   "display_name": "Python 3",
   "language": "python",
   "name": "python3"
  },
  "language_info": {
   "codemirror_mode": {
    "name": "ipython",
    "version": 3
   },
   "file_extension": ".py",
   "mimetype": "text/x-python",
   "name": "python",
   "nbconvert_exporter": "python",
   "pygments_lexer": "ipython3",
   "version": "3.8.8"
  }
 },
 "nbformat": 4,
 "nbformat_minor": 5
}
