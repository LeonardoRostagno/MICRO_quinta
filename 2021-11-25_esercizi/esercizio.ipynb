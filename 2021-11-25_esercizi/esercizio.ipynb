{
 "cells": [
  {
   "cell_type": "code",
   "execution_count": 2,
   "id": "6efe9724",
   "metadata": {},
   "outputs": [],
   "source": [
    "import numpy as np\n",
    "import random as rnd"
   ]
  },
  {
   "cell_type": "markdown",
   "id": "d4cca56f",
   "metadata": {},
   "source": [
    "# Esercizio 1"
   ]
  },
  {
   "cell_type": "markdown",
   "id": "48a4fd9d",
   "metadata": {},
   "source": [
    "Robot Impazzito\n",
    "\n",
    "Un braccio robotico industriale libero di muoversi avanti e indietro lungo una rotaia è impazzito. \n",
    "Ogni secondo si muove scegliendo a caso tra due possibili movimenti: 1 cm in avanti, oppure 1 cm indietro. \n",
    "Non è possibile togliere corrente al robot senza bloccare tutto lo stabilimento, quindi bisogna attendere lo spegnimento che si effettua tutti i fine settimana e oggi purtroppo è lunedì! \n",
    "Il nostro responsabile ci chiede di simulare lo spostamento totale che il robot avrà effettuato dopo 5 interi giorni di pazzia. \n",
    "Il robot è partito dalla posizione centrale della rotaia avente coordinata 0cm.\n",
    "\n",
    "Per numpy consultare np.cumsum"
   ]
  },
  {
   "cell_type": "code",
   "execution_count": 3,
   "id": "b6958e1b",
   "metadata": {},
   "outputs": [
    {
     "data": {
      "text/plain": [
       "432000"
      ]
     },
     "execution_count": 3,
     "metadata": {},
     "output_type": "execute_result"
    }
   ],
   "source": [
    "secondo = 1\n",
    "minuto = 60 * secondo\n",
    "ora = minuto * 60\n",
    "giorno = ora * 24\n",
    "tempo = giorno * 5\n",
    "\n",
    "tempo"
   ]
  },
  {
   "cell_type": "markdown",
   "id": "f533edb2",
   "metadata": {},
   "source": [
    "### Soluzione Numpy"
   ]
  },
  {
   "cell_type": "code",
   "execution_count": 12,
   "id": "79b5d870",
   "metadata": {},
   "outputs": [
    {
     "data": {
      "text/plain": [
       "1136"
      ]
     },
     "execution_count": 12,
     "metadata": {},
     "output_type": "execute_result"
    }
   ],
   "source": [
    "a = np.random.choice([+1, -1], tempo)\n",
    "\n",
    "a.cumsum()[-1]"
   ]
  },
  {
   "cell_type": "markdown",
   "id": "13e39e37",
   "metadata": {},
   "source": [
    "### Soluzione Python"
   ]
  },
  {
   "cell_type": "code",
   "execution_count": 4,
   "id": "162d2ea4",
   "metadata": {},
   "outputs": [],
   "source": [
    "spost = 0"
   ]
  },
  {
   "cell_type": "code",
   "execution_count": 5,
   "id": "0c1a6d47",
   "metadata": {},
   "outputs": [
    {
     "name": "stdout",
     "output_type": "stream",
     "text": [
      "-666 cm\n"
     ]
    }
   ],
   "source": [
    "for _ in range(tempo):\n",
    "    if rnd.randint(0, 1) == 0:\n",
    "        spost += 1\n",
    "    else:\n",
    "        spost -= 1\n",
    "    \n",
    "print(f\"{spost} cm\")"
   ]
  },
  {
   "cell_type": "markdown",
   "id": "7fcafa86",
   "metadata": {},
   "source": [
    "# Esercizio 2"
   ]
  },
  {
   "cell_type": "markdown",
   "id": "9158fbfa",
   "metadata": {},
   "source": [
    "Consideriamo mille classi da 25 alunni ciascuna.\n",
    "Per ognuna di esse simuliamo il giorno di nascita di ciascun alunno estraendo un numero a caso tra 0 e 364 inclusi (i giorni dell'anno non bisestile sono 365).\n",
    "Calcolare in quante delle mille classi ci sono almeno due alunni nati lo stesso giorno."
   ]
  },
  {
   "cell_type": "code",
   "execution_count": 8,
   "id": "2e4c1639",
   "metadata": {},
   "outputs": [],
   "source": [
    "alunni = 25\n",
    "classi = 1000"
   ]
  },
  {
   "cell_type": "markdown",
   "id": "c18cdf5b",
   "metadata": {},
   "source": [
    "### Soluzione Numpy"
   ]
  },
  {
   "cell_type": "code",
   "execution_count": 11,
   "id": "d1dd6423",
   "metadata": {},
   "outputs": [],
   "source": [
    "c = np.random.randint(0, 365, alunni)\n",
    "\n",
    "somma_classi = 0\n",
    "somma_alunni = 0"
   ]
  },
  {
   "cell_type": "code",
   "execution_count": 12,
   "id": "bccd8d09",
   "metadata": {},
   "outputs": [
    {
     "data": {
      "text/plain": [
       "0"
      ]
     },
     "execution_count": 12,
     "metadata": {},
     "output_type": "execute_result"
    }
   ],
   "source": [
    "for _ in range (classi):\n",
    "    for a in range (alunni - 1):\n",
    "        if c[a] == c[a+1] :\n",
    "            somma_alunni += 1\n",
    "\n",
    "    if somma_alunni >= 2:\n",
    "        somma_classi += 1\n",
    "\n",
    "somma_classi"
   ]
  },
  {
   "cell_type": "markdown",
   "id": "47221186",
   "metadata": {},
   "source": [
    "### Soluzione Python"
   ]
  },
  {
   "cell_type": "code",
   "execution_count": null,
   "id": "b1a031b4",
   "metadata": {},
   "outputs": [],
   "source": []
  }
 ],
 "metadata": {
  "kernelspec": {
   "display_name": "Python 3",
   "language": "python",
   "name": "python3"
  },
  "language_info": {
   "codemirror_mode": {
    "name": "ipython",
    "version": 3
   },
   "file_extension": ".py",
   "mimetype": "text/x-python",
   "name": "python",
   "nbconvert_exporter": "python",
   "pygments_lexer": "ipython3",
   "version": "3.8.8"
  }
 },
 "nbformat": 4,
 "nbformat_minor": 5
}
